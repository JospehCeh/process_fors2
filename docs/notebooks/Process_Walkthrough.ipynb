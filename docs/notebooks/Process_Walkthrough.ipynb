{
 "cells": [
  {
   "cell_type": "markdown",
   "id": "2e51eb1d",
   "metadata": {},
   "source": [
    "# Walkthrough the whole process of acquiring and cross-matching data\n",
    "In this notebook, we will go through the stages required to transform our spectra into a useful dataset, complemented by available photometry and information."
   ]
  },
  {
   "cell_type": "markdown",
   "id": "a2cd54e3",
   "metadata": {},
   "source": [
    "## 1. Ensure that the correct data path is known to the system"
   ]
  },
  {
   "cell_type": "code",
   "execution_count": null,
   "id": "ec2ab31e",
   "metadata": {},
   "outputs": [],
   "source": [
    "import os\n",
    "\n",
    "os.environ[\"FORS2DATALOC\"]"
   ]
  },
  {
   "cell_type": "code",
   "execution_count": null,
   "id": "da41e1b7",
   "metadata": {},
   "outputs": [],
   "source": [
    "if os.environ[\"FORS2DATALOC\"] == \"\":\n",
    "    os.environ[\"FORS2DATALOC\"] = os.path.abspath(os.path.join(\"..\", \"..\", \"src\", \"data\"))\n",
    "os.environ[\"FORS2DATALOC\"]"
   ]
  },
  {
   "cell_type": "markdown",
   "id": "c194c22e",
   "metadata": {},
   "source": [
    "It is strongly recommended to add the following to your `.bashrc` or `.bash_aliases` file:\n",
    "```bash\n",
    "export FORS2DATALOC=\"[path to this repository]/src/data\"\n",
    "```\n",
    "Then log out and log back in, or `source` the file, and the environment variable will be set and should be set automatically each time you start a session."
   ]
  },
  {
   "cell_type": "markdown",
   "id": "c5084a57",
   "metadata": {},
   "source": [
    "## 2. Explore available data\n",
    "FITS tables for FORS2 and GALEX data are queried automatically.\n",
    "FITS table from 9-band KiDS must be queried externally from the ESO archives website and saved with the appropriate name. It should, however, be part of the data cloned from the GitHub repository."
   ]
  },
  {
   "cell_type": "code",
   "execution_count": null,
   "id": "bee3e713",
   "metadata": {},
   "outputs": [],
   "source": [
    "from process_fors2.fetchData import queryTargetInSimbad"
   ]
  },
  {
   "cell_type": "markdown",
   "id": "d0f416f0",
   "metadata": {},
   "source": [
    "### Simbad query\n",
    "For illustration purposes - we notice the `MAIN_ID` field that gives us the handle to the target in Simbad. It is already hard-coded in our package."
   ]
  },
  {
   "cell_type": "code",
   "execution_count": null,
   "id": "63804fdf",
   "metadata": {},
   "outputs": [],
   "source": [
    "simbadtable = queryTargetInSimbad()"
   ]
  },
  {
   "cell_type": "code",
   "execution_count": null,
   "id": "7e1aa889",
   "metadata": {},
   "outputs": [],
   "source": [
    "simbadtable"
   ]
  },
  {
   "cell_type": "markdown",
   "id": "e2df933e",
   "metadata": {},
   "source": [
    "### Vizier query\n",
    "This is how we obtain data related to the spectra that come with this package. The function can be used to query other objects but defaults to argument values that are hard-coded in the package."
   ]
  },
  {
   "cell_type": "code",
   "execution_count": null,
   "id": "66fad5fd-771e-4420-a026-0d5258fe5ddb",
   "metadata": {},
   "outputs": [],
   "source": [
    "from process_fors2.fetchData import DEFAULTS_DICT, getFors2FitsTable\n",
    "\n",
    "DEFAULTS_DICT"
   ]
  },
  {
   "cell_type": "code",
   "execution_count": null,
   "id": "8bb6af6b",
   "metadata": {},
   "outputs": [],
   "source": [
    "os.path.isfile(DEFAULTS_DICT[\"FITS location\"])"
   ]
  },
  {
   "cell_type": "code",
   "execution_count": null,
   "id": "68139ef1",
   "metadata": {},
   "outputs": [],
   "source": [
    "fors2table_vizier = getFors2FitsTable()"
   ]
  },
  {
   "cell_type": "code",
   "execution_count": null,
   "id": "cb509cba",
   "metadata": {},
   "outputs": [],
   "source": [
    "fors2table_vizier"
   ]
  },
  {
   "cell_type": "code",
   "execution_count": null,
   "id": "6bb99a0f",
   "metadata": {},
   "outputs": [],
   "source": [
    "os.path.isfile(DEFAULTS_DICT[\"FITS location\"])"
   ]
  },
  {
   "cell_type": "markdown",
   "id": "7b4521ec",
   "metadata": {},
   "source": [
    "The table has been queried from Vizier and correctly written to the disk."
   ]
  },
  {
   "cell_type": "markdown",
   "id": "44a860cb",
   "metadata": {},
   "source": [
    "### GALEX query"
   ]
  },
  {
   "cell_type": "code",
   "execution_count": null,
   "id": "11f0086e",
   "metadata": {},
   "outputs": [],
   "source": [
    "os.path.isfile(DEFAULTS_DICT[\"GALEX FITS\"])"
   ]
  },
  {
   "cell_type": "code",
   "execution_count": null,
   "id": "f82829cd",
   "metadata": {},
   "outputs": [],
   "source": [
    "from process_fors2.fetchData import queryGalexMast"
   ]
  },
  {
   "cell_type": "code",
   "execution_count": null,
   "id": "4c57bd81",
   "metadata": {},
   "outputs": [],
   "source": [
    "galextable_mast = queryGalexMast()"
   ]
  },
  {
   "cell_type": "code",
   "execution_count": null,
   "id": "600be2c7",
   "metadata": {},
   "outputs": [],
   "source": [
    "galextable_mast"
   ]
  },
  {
   "cell_type": "code",
   "execution_count": null,
   "id": "aeda49d9",
   "metadata": {},
   "outputs": [],
   "source": [
    "os.path.isfile(DEFAULTS_DICT[\"GALEX FITS\"])"
   ]
  },
  {
   "cell_type": "markdown",
   "id": "e6aef23e",
   "metadata": {},
   "source": [
    "The table has been queried from MAST and correctly written to the disk."
   ]
  },
  {
   "cell_type": "code",
   "execution_count": null,
   "id": "479533ab-d764-40da-8c43-46b5d149b9de",
   "metadata": {},
   "outputs": [],
   "source": [
    "df_galex = galextable_mast.to_pandas()"
   ]
  },
  {
   "cell_type": "code",
   "execution_count": null,
   "id": "4e59d86f-9e6c-40d6-9d51-332247fb89d0",
   "metadata": {},
   "outputs": [],
   "source": [
    "df_galex"
   ]
  },
  {
   "cell_type": "code",
   "execution_count": null,
   "id": "1b7839a2-de59-4c91-b1a3-886e01555b2f",
   "metadata": {},
   "outputs": [],
   "source": [
    "df_galex.hist(\"fuv_mag\", bins=100)"
   ]
  },
  {
   "cell_type": "code",
   "execution_count": null,
   "id": "c050ecec-d530-46f9-8a84-30a01d021a57",
   "metadata": {},
   "outputs": [],
   "source": [
    "df_galex.hist(\"distance_arcmin\", bins=100)"
   ]
  },
  {
   "cell_type": "code",
   "execution_count": null,
   "id": "040652ab-b881-444a-a689-1eeff44d47db",
   "metadata": {},
   "outputs": [],
   "source": [
    "SelectedColumns_galex = [\n",
    "    \"ra_galex\",\n",
    "    \"dec_galex\",\n",
    "    \"fuv_mag\",\n",
    "    \"nuv_mag\",\n",
    "    \"fuv_magerr\",\n",
    "    \"nuv_magerr\",\n",
    "    \"fuv_flux\",\n",
    "    \"nuv_flux\",\n",
    "    \"fuv_fluxerr\",\n",
    "    \"nuv_fluxerr\",\n",
    "]\n",
    "df_galex = df_galex.filter(items=SelectedColumns_galex, axis=1)\n",
    "df_galex"
   ]
  },
  {
   "cell_type": "code",
   "execution_count": null,
   "id": "0f13077e-01c6-47ca-abf5-7d8293274200",
   "metadata": {},
   "outputs": [],
   "source": [
    "import numpy as np\n",
    "\n",
    "df_galex[np.isfinite(df_galex[\"fuv_mag\"])]"
   ]
  },
  {
   "cell_type": "markdown",
   "id": "890a12cb",
   "metadata": {},
   "source": [
    "### 9-band photometry from KiDS\n",
    "This data is not as easily available from astroquery and shall be downloaded from the ESO Archives website, then saved with an appropriate name, such as the one in defaults parameters.\n",
    "The existing file was obtained with a query centered on the cluster region, in a $12' \\times 12'$ box, keeping only galaxies with a filter on the parameter `SG_FLAG`."
   ]
  },
  {
   "cell_type": "code",
   "execution_count": null,
   "id": "f685c4f5",
   "metadata": {},
   "outputs": [],
   "source": [
    "os.path.isfile(DEFAULTS_DICT[\"KiDS FITS\"])"
   ]
  },
  {
   "cell_type": "code",
   "execution_count": null,
   "id": "62809aed",
   "metadata": {},
   "outputs": [],
   "source": [
    "from process_fors2.fetchData import readKids"
   ]
  },
  {
   "cell_type": "code",
   "execution_count": null,
   "id": "022677c5",
   "metadata": {},
   "outputs": [],
   "source": [
    "kidstable_eso = readKids()"
   ]
  },
  {
   "cell_type": "code",
   "execution_count": null,
   "id": "8c24f7ff",
   "metadata": {},
   "outputs": [],
   "source": [
    "kidstable_eso"
   ]
  },
  {
   "cell_type": "code",
   "execution_count": null,
   "id": "0af4fe6a",
   "metadata": {},
   "outputs": [],
   "source": [
    "[col for col in kidstable_eso.columns if \"DMAG\" in col]"
   ]
  },
  {
   "cell_type": "code",
   "execution_count": null,
   "id": "8ff29793-9859-4a8d-8eb6-ff2096edc059",
   "metadata": {},
   "outputs": [],
   "source": [
    "df_kids = kidstable_eso.to_pandas()"
   ]
  },
  {
   "cell_type": "code",
   "execution_count": null,
   "id": "281a2c3c-e262-4dd0-afcb-8366204b4d46",
   "metadata": {},
   "outputs": [],
   "source": [
    "SelectedColumns_kids = [\n",
    "    \"KiDS_ID\",\n",
    "    \"KIDS_TILE\",\n",
    "    \"ra_kids\",\n",
    "    \"dec_kids\",\n",
    "    \"FLUX_RADIUS\",\n",
    "    \"CLASS_STAR\",\n",
    "    \"Z_B\",\n",
    "    \"Z_ML\",\n",
    "    \"MAG_GAAP_u\",\n",
    "    \"MAG_GAAP_g\",\n",
    "    \"MAG_GAAP_r\",\n",
    "    \"MAG_GAAP_i\",\n",
    "    \"MAG_GAAP_Z\",\n",
    "    \"MAG_GAAP_Y\",\n",
    "    \"MAG_GAAP_J\",\n",
    "    \"MAG_GAAP_H\",\n",
    "    \"MAG_GAAP_Ks\",\n",
    "    \"MAGERR_GAAP_u\",\n",
    "    \"MAGERR_GAAP_g\",\n",
    "    \"MAGERR_GAAP_r\",\n",
    "    \"MAGERR_GAAP_i\",\n",
    "    \"MAGERR_GAAP_Z\",\n",
    "    \"MAGERR_GAAP_Y\",\n",
    "    \"MAGERR_GAAP_J\",\n",
    "    \"MAGERR_GAAP_H\",\n",
    "    \"MAGERR_GAAP_Ks\",\n",
    "    \"FLUX_GAAP_u\",\n",
    "    \"FLUX_GAAP_g\",\n",
    "    \"FLUX_GAAP_r\",\n",
    "    \"FLUX_GAAP_i\",\n",
    "    \"FLUX_GAAP_Z\",\n",
    "    \"FLUX_GAAP_Y\",\n",
    "    \"FLUX_GAAP_J\",\n",
    "    \"FLUX_GAAP_H\",\n",
    "    \"FLUX_GAAP_Ks\",\n",
    "    \"FLUXERR_GAAP_u\",\n",
    "    \"FLUXERR_GAAP_g\",\n",
    "    \"FLUXERR_GAAP_r\",\n",
    "    \"FLUXERR_GAAP_i\",\n",
    "    \"FLUXERR_GAAP_Z\",\n",
    "    \"FLUXERR_GAAP_Y\",\n",
    "    \"FLUXERR_GAAP_J\",\n",
    "    \"FLUXERR_GAAP_H\",\n",
    "    \"FLUXERR_GAAP_Ks\",\n",
    "    \"EXTINCTION_u\",\n",
    "    \"EXTINCTION_g\",\n",
    "    \"EXTINCTION_r\",\n",
    "    \"EXTINCTION_i\",\n",
    "]\n",
    "df_kids = df_kids.filter(items=SelectedColumns_kids, axis=1)"
   ]
  },
  {
   "cell_type": "code",
   "execution_count": null,
   "id": "3387de3d-c615-4ab1-9514-3c927326fdf8",
   "metadata": {},
   "outputs": [],
   "source": [
    "df_kids"
   ]
  },
  {
   "cell_type": "code",
   "execution_count": null,
   "id": "b5171f52-3b8c-416f-9186-c2fbe82437eb",
   "metadata": {},
   "outputs": [],
   "source": [
    "df_kids.hist(\"MAG_GAAP_r\", bins=100)"
   ]
  },
  {
   "cell_type": "code",
   "execution_count": null,
   "id": "d642bb8e-2b0f-438c-b4f4-88d5b42b4c36",
   "metadata": {},
   "outputs": [],
   "source": [
    "import astropy.coordinates as coord\n",
    "import astropy.units as u\n",
    "\n",
    "radec_galex = coord.SkyCoord(df_galex[\"ra_galex\"].values * u.deg, df_galex[\"dec_galex\"].values * u.deg)\n",
    "radec_kids = coord.SkyCoord(df_kids[\"ra_kids\"].values * u.deg, df_kids[\"dec_kids\"].values * u.deg)"
   ]
  },
  {
   "cell_type": "code",
   "execution_count": null,
   "id": "7cebb6c4-21bb-4a29-99ed-a936be0206bb",
   "metadata": {},
   "outputs": [],
   "source": [
    "df_fors2 = fors2table_vizier.to_pandas()\n",
    "radec_fors2 = coord.SkyCoord(df_fors2[\"RAJ2000\"].values * u.deg, df_fors2[\"DEJ2000\"].values * u.deg)"
   ]
  },
  {
   "cell_type": "code",
   "execution_count": null,
   "id": "b10e7673-b5a7-4a8d-b6ed-15d85934dbb9",
   "metadata": {},
   "outputs": [],
   "source": [
    "import matplotlib.pyplot as plt\n",
    "import matplotlib\n",
    "\n",
    "%matplotlib inline\n",
    "plt.scatter(radec_fors2.ra.deg, radec_fors2.dec.deg, s=9, label=\"FORS2\")\n",
    "plt.scatter(radec_kids.ra.deg, radec_kids.dec.deg, s=81, facecolors=\"none\", edgecolors=\"y\", alpha=0.1, label=\"KiDS\")\n",
    "plt.scatter(radec_galex.ra.deg, radec_galex.dec.deg, s=81, facecolors=\"none\", edgecolors=\"violet\", alpha=0.3, label=\"GALEX\")\n",
    "plt.grid()\n",
    "plt.xlabel(\"Right ascension [deg]\")\n",
    "plt.ylabel(\"Declination [deg]\")\n",
    "plt.suptitle(\"On-sky comparison of catalogues\")\n",
    "plt.legend(loc=\"lower left\", bbox_to_anchor=(1.01, 0.0))"
   ]
  },
  {
   "cell_type": "code",
   "execution_count": null,
   "id": "55d9ca8c-28ae-4c83-bbf2-d7cc816ca0e6",
   "metadata": {},
   "outputs": [],
   "source": [
    "CATALOGS = \"/home/joseph/Process_FORS2/src/data/catalogs/\"\n",
    "images = os.path.join(CATALOGS, \"SDSS_images_ugri_005403-282358\")\n",
    "os.listdir(images)"
   ]
  },
  {
   "cell_type": "code",
   "execution_count": null,
   "id": "383a089b-3be5-4b89-9eb2-65d2f5cef992",
   "metadata": {},
   "outputs": [],
   "source": [
    "img_to_plot = os.path.join(images, \"ADP.2019-02-11T13_02_24.807_TARGET_00_54_03_-28_23_58.fits\")"
   ]
  },
  {
   "cell_type": "code",
   "execution_count": null,
   "id": "b8c8ee5f-2d32-4def-9c2c-5cb3538b8e81",
   "metadata": {},
   "outputs": [],
   "source": [
    "from astropy.io import fits\n",
    "from astropy.stats import sigma_clipped_stats\n",
    "\n",
    "img_hdus = fits.open(img_to_plot)\n",
    "img_hdr = img_hdus[0].header\n",
    "img_data = img_hdus[0].data"
   ]
  },
  {
   "cell_type": "code",
   "execution_count": null,
   "id": "8bfb8b51-ee45-49a3-befe-8eed0812743b",
   "metadata": {},
   "outputs": [],
   "source": [
    "img_hdr"
   ]
  },
  {
   "cell_type": "code",
   "execution_count": null,
   "id": "7837061a-dd19-4b80-b5df-8591fc3bcf96",
   "metadata": {},
   "outputs": [],
   "source": [
    "img_magsAB = -2.5 * np.log10(img_data)\n",
    "moy, med, sig = sigma_clipped_stats(img_data)\n",
    "moyAB, medAB, sigAB = sigma_clipped_stats(img_magsAB)"
   ]
  },
  {
   "cell_type": "code",
   "execution_count": null,
   "id": "e8fe776a-21a1-441e-b3c1-86e0c48476e6",
   "metadata": {},
   "outputs": [],
   "source": [
    "img_mask = os.path.join(images, \"ADP.2019-02-11T13:02:24.809_TARGET_00:54:03_-28:23:58.fits\")\n",
    "msk_hdus = fits.open(img_to_plot)\n",
    "msk_hdr = img_hdus[0].header\n",
    "msk_data = img_hdus[0].data"
   ]
  },
  {
   "cell_type": "code",
   "execution_count": null,
   "id": "7872c834-f2f8-4225-89be-092240e9594d",
   "metadata": {},
   "outputs": [],
   "source": [
    "msk_hdr"
   ]
  },
  {
   "cell_type": "code",
   "execution_count": null,
   "id": "cdae79b1-a069-4f85-a258-682186c071ee",
   "metadata": {},
   "outputs": [],
   "source": [
    "from astropy.wcs import WCS\n",
    "\n",
    "wcs = WCS(img_hdr)\n",
    "ax = plt.subplot(projection=wcs)\n",
    "ax.imshow(img_data, vmin=med - 1 * sig, vmax=med + 5 * sig, origin=\"lower\")  # , vmin=med-5*sig, vmax=med+5*sig\n",
    "ax.coords.grid(True, color=\"white\", ls=\"solid\")\n",
    "ax.coords[0].set_axislabel(\"Galactic Longitude\")\n",
    "ax.coords[1].set_axislabel(\"Galactic Latitude\")\n",
    "\n",
    "overlay = ax.get_coords_overlay(\"fk5\")\n",
    "overlay.grid(True, color=\"white\", ls=\"dotted\")\n",
    "overlay[0].set_axislabel(\"Right Ascension (J2000)\")\n",
    "overlay[1].set_axislabel(\"Declination (J2000)\")\n",
    "\n",
    "ax.scatter(radec_fors2.ra.deg, radec_fors2.dec.deg, s=36, label=\"FORS2\", transform=ax.get_transform(\"fk5\"), facecolors=\"none\", edgecolors=\"pink\", alpha=0.4)"
   ]
  },
  {
   "cell_type": "markdown",
   "id": "1fca3f93-a373-4d36-9007-43f1719c4f03",
   "metadata": {},
   "source": [
    "Ma query de KiDS est calquée sur GALEX."
   ]
  },
  {
   "cell_type": "markdown",
   "id": "530d699e",
   "metadata": {},
   "source": [
    "## 3. Check spectra\n",
    "Spectra from galaxies in the field described above are shipped within this package. Here, we manipulate them to obtain a final file that gathers all available data, cross-matched, thus combining spectroscopy and photometry information for those galaxies."
   ]
  },
  {
   "cell_type": "code",
   "execution_count": null,
   "id": "3bcaf161",
   "metadata": {},
   "outputs": [],
   "source": [
    "os.listdir(DEFAULTS_DICT[\"FORS2 spectra\"])"
   ]
  },
  {
   "cell_type": "code",
   "execution_count": null,
   "id": "3ac5c1ef",
   "metadata": {},
   "outputs": [],
   "source": [
    "os.listdir(DEFAULTS_DICT[\"Starlight spectra\"])"
   ]
  },
  {
   "cell_type": "code",
   "execution_count": null,
   "id": "dc4d1890",
   "metadata": {},
   "outputs": [],
   "source": [
    "from process_fors2.fetchData import fors2ToH5"
   ]
  },
  {
   "cell_type": "code",
   "execution_count": null,
   "id": "ebab31c7",
   "metadata": {},
   "outputs": [],
   "source": [
    "# if os.path.isfile(DEFAULTS_DICT[\"FORS2 HDF5\"]):\n",
    "#    os.remove(DEFAULTS_DICT[\"FORS2 HDF5\"])\n",
    "os.path.isfile(DEFAULTS_DICT[\"FORS2 HDF5\"])"
   ]
  },
  {
   "cell_type": "code",
   "execution_count": null,
   "id": "4376c9f4",
   "metadata": {},
   "outputs": [],
   "source": [
    "# fors2ToH5()"
   ]
  },
  {
   "cell_type": "code",
   "execution_count": null,
   "id": "469d1a07",
   "metadata": {},
   "outputs": [],
   "source": [
    "import numpy as np\n",
    "\n",
    "uniques, counts = np.unique(fors2table_vizier[\"ID\"], return_counts=True)\n",
    "uniques[counts > 1]"
   ]
  },
  {
   "cell_type": "code",
   "execution_count": null,
   "id": "8ae71c59",
   "metadata": {},
   "outputs": [],
   "source": [
    "_sel = fors2table_vizier[\"ID\"] == 72\n",
    "fors2table_vizier[_sel]"
   ]
  },
  {
   "cell_type": "code",
   "execution_count": null,
   "id": "ac3fcff0",
   "metadata": {},
   "outputs": [],
   "source": [
    "os.path.isfile(DEFAULTS_DICT[\"FORS2 HDF5\"])"
   ]
  },
  {
   "cell_type": "code",
   "execution_count": null,
   "id": "9b6576ab",
   "metadata": {},
   "outputs": [],
   "source": [
    "from process_fors2.fetchData import starlightToH5"
   ]
  },
  {
   "cell_type": "code",
   "execution_count": null,
   "id": "e3fa25cb",
   "metadata": {},
   "outputs": [],
   "source": [
    "# if os.path.isfile(DEFAULTS_DICT[\"Starlight HDF5\"]):\n",
    "#    os.remove(DEFAULTS_DICT[\"Starlight HDF5\"])\n",
    "os.path.isfile(DEFAULTS_DICT[\"Starlight HDF5\"])"
   ]
  },
  {
   "cell_type": "code",
   "execution_count": null,
   "id": "fbf0cb7a",
   "metadata": {},
   "outputs": [],
   "source": [
    "# starlightToH5()"
   ]
  },
  {
   "cell_type": "code",
   "execution_count": null,
   "id": "0c4ca1ba",
   "metadata": {},
   "outputs": [],
   "source": [
    "os.path.isfile(DEFAULTS_DICT[\"Starlight HDF5\"])"
   ]
  },
  {
   "cell_type": "markdown",
   "id": "59946c2e",
   "metadata": {},
   "source": [
    "There, we have generated HDF5 files containing catalog data + available spectra ; we have also noticed one caveat of the script and checked that no data would be conflicting. Let's decode the files that were created !"
   ]
  },
  {
   "cell_type": "code",
   "execution_count": null,
   "id": "c673eac2",
   "metadata": {},
   "outputs": [],
   "source": [
    "from process_fors2.fetchData import readH5FileAttributes"
   ]
  },
  {
   "cell_type": "code",
   "execution_count": null,
   "id": "6641a57c",
   "metadata": {},
   "outputs": [],
   "source": [
    "sl_df = readH5FileAttributes(DEFAULTS_DICT[\"Starlight HDF5\"])"
   ]
  },
  {
   "cell_type": "code",
   "execution_count": null,
   "id": "10dd6382",
   "metadata": {},
   "outputs": [],
   "source": [
    "sl_df"
   ]
  },
  {
   "cell_type": "code",
   "execution_count": null,
   "id": "b23b81e9",
   "metadata": {},
   "outputs": [],
   "source": [
    "sl_df[sl_df[\"num\"] == 72]"
   ]
  },
  {
   "cell_type": "code",
   "execution_count": null,
   "id": "46fe4359",
   "metadata": {},
   "outputs": [],
   "source": [
    "import h5py"
   ]
  },
  {
   "cell_type": "code",
   "execution_count": null,
   "id": "1e2ef04c",
   "metadata": {},
   "outputs": [],
   "source": [
    "with h5py.File(DEFAULTS_DICT[\"Starlight HDF5\"], \"r\") as sl_in:\n",
    "    for tag in list(sl_in.keys())[:1]:\n",
    "        group = sl_in.get(tag)\n",
    "        print(\"DATA IN GROUP \\n============\")\n",
    "        for attr in group:\n",
    "            print(attr)\n",
    "        print(\"ATTRIBUTES IN GROUP \\n===================\")\n",
    "        for attr in group.attrs:\n",
    "            print(attr)\n",
    "        print(\"CHECK CONSISTENCY \\n=================\")\n",
    "        print(tag, group.attrs.get(\"num\"))"
   ]
  },
  {
   "cell_type": "code",
   "execution_count": null,
   "id": "6ea2bcc5",
   "metadata": {},
   "outputs": [],
   "source": [
    "with h5py.File(DEFAULTS_DICT[\"Starlight HDF5\"], \"r\") as sl_in:\n",
    "    for tag in sl_in:\n",
    "        group = sl_in.get(tag)\n",
    "        if f\"{group.attrs.get('num')}\" not in tag:\n",
    "            print(\"Inconsistent spectrum : tag {tag}, num {group.attrs.get('num')}\")"
   ]
  },
  {
   "cell_type": "code",
   "execution_count": null,
   "id": "f8955c52",
   "metadata": {},
   "outputs": [],
   "source": [
    "import matplotlib.pyplot as plt\n",
    "\n",
    "with h5py.File(DEFAULTS_DICT[\"Starlight HDF5\"], \"r\") as sl_in:\n",
    "    for tag in list(sl_in.keys())[:4]:\n",
    "        group = sl_in.get(tag)\n",
    "        wl = np.array(group.get(\"wl\"))\n",
    "        fl = np.array(group.get(\"fl\"))\n",
    "        fl_ext = np.array(group.get(\"fl_ext\"))\n",
    "        plt.plot(wl, fl, label=\"Flux corrected for dust extinction\")\n",
    "        plt.plot(wl, fl_ext, label=\"Flux not corrected for dust extinction\")\n",
    "        plt.xscale(\"log\")\n",
    "        plt.yscale(\"log\")\n",
    "        plt.xlabel(\"Wavelength [Ang.]\")\n",
    "        plt.ylabel(\"Flux [arbitrary units]\")\n",
    "        plt.suptitle(f\"tag {tag}, num {group.attrs.get('num')}\")\n",
    "        plt.legend()\n",
    "        plt.show()"
   ]
  },
  {
   "cell_type": "code",
   "execution_count": null,
   "id": "e508cc44",
   "metadata": {},
   "outputs": [],
   "source": [
    "with h5py.File(DEFAULTS_DICT[\"FORS2 HDF5\"], \"r\") as f2_in:\n",
    "    for tag in list(f2_in.keys())[:4]:\n",
    "        group = f2_in.get(tag)\n",
    "        wl = np.array(group.get(\"wl\"))\n",
    "        fl = np.array(group.get(\"fl\"))\n",
    "        msk = np.array(group.get(\"mask\"))\n",
    "        msk = np.where(msk > 0, True, False)\n",
    "        plt.plot(wl, fl, label=\"Observed flux\")\n",
    "        plt.plot(wl[msk], fl[msk], lw=0.5, label=\"Masked portions of the flux\")\n",
    "        plt.xscale(\"log\")\n",
    "        plt.yscale(\"log\")\n",
    "        plt.xlabel(\"Wavelength [Ang.]\")\n",
    "        plt.ylabel(\"Flux [arbitrary units]\")\n",
    "        plt.suptitle(f\"tag {tag}, num {group.attrs.get('num')}\")\n",
    "        plt.legend()\n",
    "        plt.show()"
   ]
  },
  {
   "cell_type": "markdown",
   "id": "dc344f04",
   "metadata": {},
   "source": [
    "We have showed that our `hdf5` files contain all informations from the initial table + all available spectra from observations (FORS2) or SPS-extrapolation (Starlight) - plus mask information and with/without dust extinction."
   ]
  },
  {
   "cell_type": "markdown",
   "id": "14ad32e3-b634-484f-a660-76366b559d91",
   "metadata": {},
   "source": [
    "## 4. Perform cross-match"
   ]
  },
  {
   "cell_type": "code",
   "execution_count": null,
   "id": "14b44748-b2b7-4e9e-95e3-c3ad8330ce12",
   "metadata": {},
   "outputs": [],
   "source": [
    "import pandas as pd\n",
    "from process_fors2.fetchData import readH5FileAttributes\n",
    "\n",
    "df_for2_forfit = readH5FileAttributes(DEFAULTS_DICT[\"FORS2 HDF5\"])"
   ]
  },
  {
   "cell_type": "code",
   "execution_count": null,
   "id": "6552f265-41cf-4930-a57a-fdb59cf790e8",
   "metadata": {},
   "outputs": [],
   "source": [
    "df_for2_forfit"
   ]
  },
  {
   "cell_type": "code",
   "execution_count": null,
   "id": "517dc1a1-717a-4b91-b6da-401cd8194117",
   "metadata": {},
   "outputs": [],
   "source": [
    "if True:\n",
    "    all_idx_k = []  # index of the match\n",
    "    all_d2d_k = []  # distance in arcsec\n",
    "    all_idx_g = []  # index of the match\n",
    "    all_d2d_g = []  # distance in arcsec\n",
    "\n",
    "    df_photometry = pd.DataFrame(index=df_for2_forfit.index, columns=SelectedColumns_kids + SelectedColumns_galex)\n",
    "    for index, row in df_for2_forfit.iterrows():\n",
    "        c = coord.SkyCoord(row[\"ra\"] * u.degree, row[\"dec\"] * u.degree)\n",
    "        idx_k, d2d_k, _ = c.match_to_catalog_sky(radec_kids)\n",
    "        idx_g, d2d_g, _ = c.match_to_catalog_sky(radec_galex)\n",
    "        all_idx_k.append(int(idx_k))\n",
    "        all_idx_g.append(int(idx_g))\n",
    "        all_d2d_k.append(coord.Angle(d2d_k[0]).arcsec)\n",
    "        all_d2d_g.append(coord.Angle(d2d_g[0]).arcsec)\n",
    "        df_photometry.loc[index, SelectedColumns_kids] = df_kids.iloc[idx_k]\n",
    "        df_photometry.loc[index, SelectedColumns_galex] = df_galex.iloc[idx_g]\n",
    "\n",
    "    all_idx_k = np.array(all_idx_k, dtype=int)\n",
    "    all_idx_g = np.array(all_idx_g, dtype=int)\n",
    "    all_d2d_k = np.array(all_d2d_k)\n",
    "    all_d2d_g = np.array(all_d2d_g)\n",
    "    df_photometry[\"id_galex\"] = all_idx_g\n",
    "    df_photometry[\"id_kids\"] = all_idx_k\n",
    "    df_photometry[\"asep_galex\"] = all_d2d_g\n",
    "    df_photometry[\"asep_kids\"] = all_d2d_k\n",
    "\n",
    "    df_concatenated = pd.concat((df_for2_forfit, df_photometry), axis=1)"
   ]
  },
  {
   "cell_type": "code",
   "execution_count": null,
   "id": "8363fc0a-188a-43a4-a18b-170b27a55e2a",
   "metadata": {},
   "outputs": [],
   "source": [
    "df_concatenated"
   ]
  },
  {
   "cell_type": "code",
   "execution_count": null,
   "id": "f89f65aa-46be-4339-bcb6-776e9eb807dd",
   "metadata": {},
   "outputs": [],
   "source": [
    "for index, row in df_concatenated.iterrows():\n",
    "    if f\"{row['num']}\" not in f\"{row['name']}\":\n",
    "        print(\"Inconsistent spectrum at row {index}: name {row['name']}, num {row['num']}\")"
   ]
  },
  {
   "cell_type": "code",
   "execution_count": null,
   "id": "8f4d668f-c9fa-4ab0-981c-712c8ed6aafa",
   "metadata": {},
   "outputs": [],
   "source": [
    "(df_concatenated[\"asep_galex\"].values[0] * u.arcsec).to(u.deg).value"
   ]
  },
  {
   "cell_type": "code",
   "execution_count": null,
   "id": "063a1ce3-042a-411b-8ed5-712dbfe02f3f",
   "metadata": {},
   "outputs": [],
   "source": [
    "df_concatenated.hist(\"asep_kids\", bins=100)"
   ]
  },
  {
   "cell_type": "code",
   "execution_count": null,
   "id": "fdddb076-d75b-4ca8-91c1-9396d905e705",
   "metadata": {},
   "outputs": [],
   "source": [
    "df_concatenated.hist(\"asep_galex\", bins=100)"
   ]
  },
  {
   "cell_type": "code",
   "execution_count": null,
   "id": "02ba035f-f090-4165-a49c-e3f0fefe0143",
   "metadata": {},
   "outputs": [],
   "source": [
    "df_concatenated.hist(\"nuv_flux\", bins=100)"
   ]
  },
  {
   "cell_type": "code",
   "execution_count": null,
   "id": "9ade300a-3b81-4251-a93e-d054101132e1",
   "metadata": {},
   "outputs": [],
   "source": [
    "for col in df_concatenated.columns:\n",
    "    try:\n",
    "        df_concatenated[col] = pd.to_numeric(df_concatenated[col])\n",
    "    except ValueError:\n",
    "        pass"
   ]
  },
  {
   "cell_type": "code",
   "execution_count": null,
   "id": "77f3cbb1-527a-46cf-b0ca-021e2e579ba3",
   "metadata": {},
   "outputs": [],
   "source": [
    "df_concatenated.hist(\"nuv_flux\", bins=100)"
   ]
  },
  {
   "cell_type": "code",
   "execution_count": null,
   "id": "f3ec2e8f-c989-4184-978e-9e0759db798c",
   "metadata": {},
   "outputs": [],
   "source": [
    "df_concatenated.hist(\"fuv_flux\", bins=100)"
   ]
  },
  {
   "cell_type": "code",
   "execution_count": null,
   "id": "4c3b4f5f-bbd1-4288-8e5f-c055270cc9bf",
   "metadata": {},
   "outputs": [],
   "source": [
    "df_concatenated[\"num\"]"
   ]
  },
  {
   "cell_type": "code",
   "execution_count": null,
   "id": "ceff567a-98d3-4a4c-810c-ff8f6066b298",
   "metadata": {},
   "outputs": [],
   "source": [
    "ax = plt.subplot(projection=wcs)\n",
    "ax.imshow(img_data, vmin=med - 1 * sig, vmax=med + 5 * sig, origin=\"lower\")  # , vmin=med-5*sig, vmax=med+5*sig\n",
    "ax.coords.grid(False, color=\"white\", ls=\"solid\")\n",
    "ax.coords[0].set_axislabel(\"Galactic Longitude\")\n",
    "ax.coords[1].set_axislabel(\"Galactic Latitude\")\n",
    "\n",
    "overlay = ax.get_coords_overlay(\"fk5\")\n",
    "overlay.grid(True, color=\"white\", ls=\"dotted\")\n",
    "overlay[0].set_axislabel(\"Right Ascension (J2000)\")\n",
    "overlay[1].set_axislabel(\"Declination (J2000)\")\n",
    "\n",
    "ax.scatter(df_concatenated[\"ra\"], df_concatenated[\"dec\"], s=9, label=\"FORS2\", transform=ax.get_transform(\"fk5\"), c=\"r\", alpha=0.3)\n",
    "ax.scatter(df_concatenated[\"ra_kids\"], df_concatenated[\"dec_kids\"], s=4, label=\"KiDS\", transform=ax.get_transform(\"fk5\"), c=\"yellow\", alpha=0.3)\n",
    "\n",
    "from matplotlib.patches import Circle\n",
    "\n",
    "for ra, dec, asep in zip(df_concatenated[\"ra_kids\"].values, df_concatenated[\"dec_kids\"].values, df_concatenated[\"asep_kids\"].values):\n",
    "    cir = Circle((ra, dec), (asep * u.arcsec).to(u.deg).value, edgecolor=\"yellow\", facecolor=\"none\", transform=ax.get_transform(\"fk5\"), alpha=0.5)\n",
    "    ax.add_patch(cir)"
   ]
  },
  {
   "cell_type": "code",
   "execution_count": null,
   "id": "b1502ace-ec51-4291-a65a-305fb92590d7",
   "metadata": {},
   "outputs": [],
   "source": [
    "ax = plt.subplot(projection=wcs)\n",
    "ax.imshow(img_data, vmin=med - 1 * sig, vmax=med + 5 * sig, origin=\"lower\")  # , vmin=med-5*sig, vmax=med+5*sig\n",
    "ax.coords.grid(False, color=\"white\", ls=\"solid\")\n",
    "ax.coords[0].set_axislabel(\"Galactic Longitude\")\n",
    "ax.coords[1].set_axislabel(\"Galactic Latitude\")\n",
    "\n",
    "overlay = ax.get_coords_overlay(\"fk5\")\n",
    "overlay.grid(True, color=\"white\", ls=\"dotted\")\n",
    "overlay[0].set_axislabel(\"Right Ascension (J2000)\")\n",
    "overlay[1].set_axislabel(\"Declination (J2000)\")\n",
    "\n",
    "ax.scatter(df_concatenated[\"ra\"], df_concatenated[\"dec\"], s=9, label=\"FORS2\", transform=ax.get_transform(\"fk5\"), c=\"r\", alpha=0.3)\n",
    "ax.scatter(df_concatenated[\"ra_galex\"], df_concatenated[\"dec_galex\"], s=4, label=\"GALEX\", transform=ax.get_transform(\"fk5\"), c=\"yellow\", alpha=0.3)\n",
    "\n",
    "for ra, dec, asep in zip(df_concatenated[\"ra_galex\"].values, df_concatenated[\"dec_galex\"].values, df_concatenated[\"asep_galex\"].values):\n",
    "    cir = Circle((ra, dec), (asep * u.arcsec).to(u.deg).value, edgecolor=\"yellow\", facecolor=\"none\", transform=ax.get_transform(\"fk5\"), alpha=0.5)\n",
    "    ax.add_patch(cir)"
   ]
  },
  {
   "cell_type": "markdown",
   "id": "22c9b9fa",
   "metadata": {},
   "source": [
    "## 5. Merge catalogs\n",
    "We will now generate a single `hdf5` file that gathers all appropriate data from the tables above and the spectra. This will be used as inputs for various studies."
   ]
  },
  {
   "cell_type": "code",
   "execution_count": null,
   "id": "5a72fe03",
   "metadata": {},
   "outputs": [],
   "source": [
    "from process_fors2.fetchData import crossmatchFors2KidsGalex"
   ]
  },
  {
   "cell_type": "code",
   "execution_count": null,
   "id": "75d5955d",
   "metadata": {},
   "outputs": [],
   "source": [
    "filename = \"resulting_merge_from_walkthrough.h5\"\n",
    "outfile = os.path.abspath(os.path.join(\".\", filename))"
   ]
  },
  {
   "cell_type": "code",
   "execution_count": null,
   "id": "38f73b68",
   "metadata": {},
   "outputs": [],
   "source": [
    "# crossmatchFors2KidsGalex(outfile)"
   ]
  },
  {
   "cell_type": "code",
   "execution_count": null,
   "id": "45a26a78",
   "metadata": {},
   "outputs": [],
   "source": []
  }
 ],
 "metadata": {
  "kernelspec": {
   "display_name": "Python - FORS2 data processing",
   "language": "python",
   "name": "fors2env"
  },
  "language_info": {
   "codemirror_mode": {
    "name": "ipython",
    "version": 3
   },
   "file_extension": ".py",
   "mimetype": "text/x-python",
   "name": "python",
   "nbconvert_exporter": "python",
   "pygments_lexer": "ipython3",
   "version": "3.10.14"
  }
 },
 "nbformat": 4,
 "nbformat_minor": 5
}

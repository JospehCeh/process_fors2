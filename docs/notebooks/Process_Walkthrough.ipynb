{
 "cells": [
  {
   "cell_type": "markdown",
   "id": "2e51eb1d",
   "metadata": {},
   "source": [
    "# Walkthrough the whole process of acquiring and cross-matching data\n",
    "In this notebook, we will go through the stages required to transform our spectra into a useful dataset, complemented by available photometry and information."
   ]
  },
  {
   "cell_type": "markdown",
   "id": "a2cd54e3",
   "metadata": {},
   "source": [
    "## 1. Ensure that the correct data path is known to the system"
   ]
  },
  {
   "cell_type": "code",
   "execution_count": null,
   "id": "ec2ab31e",
   "metadata": {},
   "outputs": [],
   "source": [
    "import os\n",
    "\n",
    "os.environ[\"FORS2DATALOC\"]"
   ]
  },
  {
   "cell_type": "code",
   "execution_count": null,
   "id": "da41e1b7",
   "metadata": {},
   "outputs": [],
   "source": [
    "if os.environ[\"FORS2DATALOC\"] == \"\":\n",
    "    os.environ[\"FORS2DATALOC\"] = os.path.abspath(os.path.join(\"..\", \"..\", \"src\", \"data\"))\n",
    "os.environ[\"FORS2DATALOC\"]"
   ]
  },
  {
   "cell_type": "markdown",
   "id": "c194c22e",
   "metadata": {},
   "source": [
    "It is strongly recommended to add the following to your `.bashrc` or `.bash_aliases` file:\n",
    "```bash\n",
    "export FORS2DATALOC=\"[path to this repository]/src/data\"\n",
    "```\n",
    "Then log out and log back in, or `source` the file, and the environment variable will be set and should be set automatically each time you start a session."
   ]
  },
  {
   "cell_type": "markdown",
   "id": "c5084a57",
   "metadata": {},
   "source": [
    "## 2. Explore available data\n",
    "FITS tables for FORS2 and GALEX data are queried automatically.\n",
    "FITS table from 9-band KiDS must be queried externally from the ESO archives website and saved with the appropriate name. It should, however, be part of the data cloned from the GitHub repository."
   ]
  },
  {
   "cell_type": "code",
   "execution_count": null,
   "id": "bee3e713",
   "metadata": {},
   "outputs": [],
   "source": [
    "from process_fors2.fetchData import queryTargetInSimbad"
   ]
  },
  {
   "cell_type": "markdown",
   "id": "d0f416f0",
   "metadata": {},
   "source": [
    "### Simbad query\n",
    "For illustration purposes - we notice the `MAIN_ID` field that gives us the handle to the target in Simbad. It is already hard-coded in our package."
   ]
  },
  {
   "cell_type": "code",
   "execution_count": null,
   "id": "63804fdf",
   "metadata": {},
   "outputs": [],
   "source": [
    "simbadtable = queryTargetInSimbad()"
   ]
  },
  {
   "cell_type": "code",
   "execution_count": null,
   "id": "7e1aa889",
   "metadata": {},
   "outputs": [],
   "source": [
    "simbadtable"
   ]
  },
  {
   "cell_type": "markdown",
   "id": "e2df933e",
   "metadata": {},
   "source": [
    "### Vizier query\n",
    "This is how we obtain data related to the spectra that come with this package. The function can be used to query other objects but defaults to argument values that are hard-coded in the package."
   ]
  },
  {
   "cell_type": "code",
   "execution_count": null,
   "id": "1cf98e55",
   "metadata": {},
   "outputs": [],
   "source": [
    "from process_fors2.fetchData import DEFAULTS_DICT, getFors2FitsTable\n",
    "\n",
    "DEFAULTS_DICT"
   ]
  },
  {
   "cell_type": "code",
   "execution_count": null,
   "id": "8bb6af6b",
   "metadata": {},
   "outputs": [],
   "source": [
    "os.path.isfile(DEFAULTS_DICT[\"FITS location\"])"
   ]
  },
  {
   "cell_type": "code",
   "execution_count": null,
   "id": "68139ef1",
   "metadata": {},
   "outputs": [],
   "source": [
    "fors2table_vizier = getFors2FitsTable()"
   ]
  },
  {
   "cell_type": "code",
   "execution_count": null,
   "id": "cb509cba",
   "metadata": {},
   "outputs": [],
   "source": [
    "fors2table_vizier"
   ]
  },
  {
   "cell_type": "code",
   "execution_count": null,
   "id": "6bb99a0f",
   "metadata": {},
   "outputs": [],
   "source": [
    "os.path.isfile(DEFAULTS_DICT[\"FITS location\"])"
   ]
  },
  {
   "cell_type": "markdown",
   "id": "7b4521ec",
   "metadata": {},
   "source": [
    "The table has been queried from Vizier and correctly written to the disk."
   ]
  },
  {
   "cell_type": "markdown",
   "id": "44a860cb",
   "metadata": {},
   "source": [
    "### GALEX query"
   ]
  },
  {
   "cell_type": "code",
   "execution_count": null,
   "id": "11f0086e",
   "metadata": {},
   "outputs": [],
   "source": [
    "os.path.isfile(DEFAULTS_DICT[\"GALEX FITS\"])"
   ]
  },
  {
   "cell_type": "code",
   "execution_count": null,
   "id": "f82829cd",
   "metadata": {},
   "outputs": [],
   "source": [
    "from process_fors2.fetchData import queryGalexMast"
   ]
  },
  {
   "cell_type": "code",
   "execution_count": null,
   "id": "4c57bd81",
   "metadata": {},
   "outputs": [],
   "source": [
    "galextable_mast = queryGalexMast()"
   ]
  },
  {
   "cell_type": "code",
   "execution_count": null,
   "id": "600be2c7",
   "metadata": {},
   "outputs": [],
   "source": [
    "galextable_mast"
   ]
  },
  {
   "cell_type": "code",
   "execution_count": null,
   "id": "aeda49d9",
   "metadata": {},
   "outputs": [],
   "source": [
    "os.path.isfile(DEFAULTS_DICT[\"GALEX FITS\"])"
   ]
  },
  {
   "cell_type": "markdown",
   "id": "e6aef23e",
   "metadata": {},
   "source": [
    "The table has been queried from MAST and correctly written to the disk."
   ]
  },
  {
   "cell_type": "markdown",
   "id": "890a12cb",
   "metadata": {},
   "source": [
    "### 9-band photometry from KiDS\n",
    "This data is not as easily available from astroquery and shall be downloaded from the ESO Archives website, then saved with an appropriate name, such as the one in defaults parameters.\n",
    "The existing file was obtained with a query centered on the cluster region, in a $12' \\times 12'$ box, keeping only galaxies with a filter on the parameter `SG_FLAG`."
   ]
  },
  {
   "cell_type": "code",
   "execution_count": null,
   "id": "f685c4f5",
   "metadata": {},
   "outputs": [],
   "source": [
    "os.path.isfile(DEFAULTS_DICT[\"KiDS FITS\"])"
   ]
  },
  {
   "cell_type": "code",
   "execution_count": null,
   "id": "62809aed",
   "metadata": {},
   "outputs": [],
   "source": [
    "from process_fors2.fetchData import readKids"
   ]
  },
  {
   "cell_type": "code",
   "execution_count": null,
   "id": "022677c5",
   "metadata": {},
   "outputs": [],
   "source": [
    "kidstable_eso = readKids()"
   ]
  },
  {
   "cell_type": "code",
   "execution_count": null,
   "id": "8c24f7ff",
   "metadata": {},
   "outputs": [],
   "source": [
    "kidstable_eso"
   ]
  },
  {
   "cell_type": "code",
   "execution_count": null,
   "id": "0af4fe6a",
   "metadata": {},
   "outputs": [],
   "source": [
    "kidstable_eso.columns"
   ]
  },
  {
   "cell_type": "markdown",
   "id": "530d699e",
   "metadata": {},
   "source": [
    "## 3. Check spectra\n",
    "Spectra from galaxies in the field described above are shipped within this package. Here, we manipulate them to obtain a final file that gathers all available data, cross-matched, thus combining spectroscopy and photometry information for those galaxies."
   ]
  },
  {
   "cell_type": "code",
   "execution_count": null,
   "id": "3bcaf161",
   "metadata": {},
   "outputs": [],
   "source": [
    "os.listdir(DEFAULTS_DICT[\"FORS2 spectra\"])"
   ]
  },
  {
   "cell_type": "code",
   "execution_count": null,
   "id": "3ac5c1ef",
   "metadata": {},
   "outputs": [],
   "source": [
    "os.listdir(DEFAULTS_DICT[\"Starlight spectra\"])"
   ]
  },
  {
   "cell_type": "code",
   "execution_count": null,
   "id": "dc4d1890",
   "metadata": {},
   "outputs": [],
   "source": [
    "from process_fors2.fetchData import fors2ToH5"
   ]
  },
  {
   "cell_type": "code",
   "execution_count": null,
   "id": "ebab31c7",
   "metadata": {},
   "outputs": [],
   "source": [
    "os.path.isfile(DEFAULTS_DICT[\"FORS2 HDF5\"])"
   ]
  },
  {
   "cell_type": "code",
   "execution_count": null,
   "id": "4376c9f4",
   "metadata": {},
   "outputs": [],
   "source": [
    "fors2ToH5()"
   ]
  },
  {
   "cell_type": "code",
   "execution_count": null,
   "id": "469d1a07",
   "metadata": {},
   "outputs": [],
   "source": [
    "import numpy as np\n",
    "\n",
    "uniques, counts = np.unique(fors2table_vizier[\"ID\"], return_counts=True)\n",
    "uniques[counts > 1]"
   ]
  },
  {
   "cell_type": "code",
   "execution_count": null,
   "id": "8ae71c59",
   "metadata": {},
   "outputs": [],
   "source": [
    "_sel = fors2table_vizier[\"ID\"] == 72\n",
    "fors2table_vizier[_sel]"
   ]
  },
  {
   "cell_type": "code",
   "execution_count": null,
   "id": "ac3fcff0",
   "metadata": {},
   "outputs": [],
   "source": [
    "os.path.isfile(DEFAULTS_DICT[\"FORS2 HDF5\"])"
   ]
  },
  {
   "cell_type": "code",
   "execution_count": null,
   "id": "9b6576ab",
   "metadata": {},
   "outputs": [],
   "source": [
    "from process_fors2.fetchData import starlightToH5"
   ]
  },
  {
   "cell_type": "code",
   "execution_count": null,
   "id": "e3fa25cb",
   "metadata": {},
   "outputs": [],
   "source": [
    "os.path.isfile(DEFAULTS_DICT[\"Starlight HDF5\"])"
   ]
  },
  {
   "cell_type": "code",
   "execution_count": null,
   "id": "fbf0cb7a",
   "metadata": {},
   "outputs": [],
   "source": [
    "starlightToH5()"
   ]
  },
  {
   "cell_type": "code",
   "execution_count": null,
   "id": "0c4ca1ba",
   "metadata": {},
   "outputs": [],
   "source": [
    "os.path.isfile(DEFAULTS_DICT[\"Starlight HDF5\"])"
   ]
  },
  {
   "cell_type": "markdown",
   "id": "59946c2e",
   "metadata": {},
   "source": [
    "There, we have generated HDF5 files containing catalog data + available spectra ; we have also noticed one caveat of the script and checked that no data would be conflicting. Let's decode the files that were created !"
   ]
  },
  {
   "cell_type": "code",
   "execution_count": null,
   "id": "c673eac2",
   "metadata": {},
   "outputs": [],
   "source": [
    "from process_fors2.fetchData import readH5FileAttributes"
   ]
  },
  {
   "cell_type": "code",
   "execution_count": null,
   "id": "6641a57c",
   "metadata": {},
   "outputs": [],
   "source": [
    "sl_df = readH5FileAttributes(DEFAULTS_DICT[\"Starlight HDF5\"])"
   ]
  },
  {
   "cell_type": "code",
   "execution_count": null,
   "id": "10dd6382",
   "metadata": {},
   "outputs": [],
   "source": [
    "sl_df"
   ]
  },
  {
   "cell_type": "code",
   "execution_count": null,
   "id": "b23b81e9",
   "metadata": {},
   "outputs": [],
   "source": [
    "sl_df[sl_df[\"num\"] == 72]"
   ]
  },
  {
   "cell_type": "code",
   "execution_count": null,
   "id": "46fe4359",
   "metadata": {},
   "outputs": [],
   "source": [
    "import h5py"
   ]
  },
  {
   "cell_type": "code",
   "execution_count": null,
   "id": "6ea2bcc5",
   "metadata": {},
   "outputs": [],
   "source": [
    "with h5py.File(DEFAULTS_DICT[\"Starlight HDF5\"], \"r\") as sl_in:\n",
    "    for tag in sl_in:\n",
    "        print(tag)"
   ]
  },
  {
   "cell_type": "code",
   "execution_count": null,
   "id": "1e2ef04c",
   "metadata": {},
   "outputs": [],
   "source": [
    "with h5py.File(DEFAULTS_DICT[\"Starlight HDF5\"], \"r\") as sl_in:\n",
    "    for tag in list(sl_in.keys())[:1]:\n",
    "        group = sl_in.get(tag)\n",
    "        for attr in group:\n",
    "            print(attr)"
   ]
  },
  {
   "cell_type": "code",
   "execution_count": null,
   "id": "f8955c52",
   "metadata": {},
   "outputs": [],
   "source": [
    "import matplotlib.pyplot as plt\n",
    "\n",
    "with h5py.File(DEFAULTS_DICT[\"Starlight HDF5\"], \"r\") as sl_in:\n",
    "    for tag in list(sl_in.keys())[:4]:\n",
    "        group = sl_in.get(tag)\n",
    "        wl = np.array(group.get(\"wl\"))\n",
    "        fl = np.array(group.get(\"fl\"))\n",
    "        fl_ext = np.array(group.get(\"fl_ext\"))\n",
    "        plt.plot(wl, fl, label=\"Flux corrected for dust extinction\")\n",
    "        plt.plot(wl, fl_ext, label=\"Flux not corrected for dust extinction\")\n",
    "        plt.xscale(\"log\")\n",
    "        plt.yscale(\"log\")\n",
    "        plt.xlabel(\"Wavelength [Ang.]\")\n",
    "        plt.ylabel(\"Flux [arbitrary units]\")\n",
    "        plt.legend()\n",
    "        plt.show()"
   ]
  },
  {
   "cell_type": "code",
   "execution_count": null,
   "id": "e508cc44",
   "metadata": {},
   "outputs": [],
   "source": [
    "with h5py.File(DEFAULTS_DICT[\"FORS2 HDF5\"], \"r\") as sl_in:\n",
    "    for tag in list(sl_in.keys())[:4]:\n",
    "        group = sl_in.get(tag)\n",
    "        wl = np.array(group.get(\"wl\"))\n",
    "        fl = np.array(group.get(\"fl\"))\n",
    "        msk = np.array(group.get(\"mask\"))\n",
    "        msk = np.where(msk > 0, True, False)\n",
    "        plt.plot(wl, fl, label=\"Observed flux\")\n",
    "        plt.plot(wl[msk], fl[msk], lw=0.5, label=\"Masked portions of the flux\")\n",
    "        plt.xscale(\"log\")\n",
    "        plt.yscale(\"log\")\n",
    "        plt.xlabel(\"Wavelength [Ang.]\")\n",
    "        plt.ylabel(\"Flux [arbitrary units]\")\n",
    "        plt.legend()\n",
    "        plt.show()"
   ]
  },
  {
   "cell_type": "markdown",
   "id": "dc344f04",
   "metadata": {},
   "source": [
    "We have showed that our `hdf5` files contain all informations from the initial table + all available spectra from oberstaions (FORS2) or SPS-extrapolation (Starlight) - plus mask information and with/without dust extinction."
   ]
  },
  {
   "cell_type": "markdown",
   "id": "22c9b9fa",
   "metadata": {},
   "source": [
    "## 4. Merge catalogs\n",
    "We will now generate a single `hdf5` file that gathers all appropriate data from the tables above and the spectra. This will be used as inputs for various studies."
   ]
  },
  {
   "cell_type": "code",
   "execution_count": null,
   "id": "5a72fe03",
   "metadata": {},
   "outputs": [],
   "source": [
    "from process_fors2.fetchData import crossmatchFors2KidsGalex"
   ]
  },
  {
   "cell_type": "code",
   "execution_count": null,
   "id": "75d5955d",
   "metadata": {},
   "outputs": [],
   "source": [
    "filename = \"resulting_merge_from_walkthrough.h5\"\n",
    "outfile = os.path.abspath(os.path.join(\".\", filename))"
   ]
  },
  {
   "cell_type": "code",
   "execution_count": null,
   "id": "38f73b68",
   "metadata": {},
   "outputs": [],
   "source": [
    "crossmatchFors2KidsGalex(outfile)"
   ]
  },
  {
   "cell_type": "code",
   "execution_count": null,
   "id": "45a26a78",
   "metadata": {},
   "outputs": [],
   "source": []
  }
 ],
 "metadata": {
  "kernelspec": {
   "display_name": "Python - FORS2 data processing",
   "language": "python",
   "name": "fors2env"
  },
  "language_info": {
   "codemirror_mode": {
    "name": "ipython",
    "version": 3
   },
   "file_extension": ".py",
   "mimetype": "text/x-python",
   "name": "python",
   "nbconvert_exporter": "python",
   "pygments_lexer": "ipython3",
   "version": "3.10.13"
  }
 },
 "nbformat": 4,
 "nbformat_minor": 5
}

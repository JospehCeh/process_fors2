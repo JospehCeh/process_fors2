{
 "cells": [
  {
   "cell_type": "code",
   "execution_count": null,
   "id": "d63886dd",
   "metadata": {},
   "outputs": [],
   "source": [
    "import os\n",
    "from process_fors2.fetchData import crossmatchFors2KidsGalex"
   ]
  },
  {
   "cell_type": "code",
   "execution_count": null,
   "id": "eb052193",
   "metadata": {},
   "outputs": [],
   "source": [
    "filename = \"resulting_merge_from_walkthrough.h5\"\n",
    "outfile = os.path.abspath(os.path.join(\".\", filename))\n",
    "xmatch_df = crossmatchFors2KidsGalex(outfile)"
   ]
  },
  {
   "cell_type": "code",
   "execution_count": null,
   "id": "86791dac",
   "metadata": {},
   "outputs": [],
   "source": [
    "xmatch_df"
   ]
  },
  {
   "cell_type": "code",
   "execution_count": null,
   "id": "7f312be6",
   "metadata": {},
   "outputs": [],
   "source": [
    "import numpy as np\n",
    "\n",
    "xmatch_df.hist(\"redshift\")\n",
    "xmatch_df.plot.scatter(x=\"redshift\", y=\"Z_B\")"
   ]
  },
  {
   "cell_type": "code",
   "execution_count": null,
   "id": "4f3a6e7a",
   "metadata": {},
   "outputs": [],
   "source": [
    "import matplotlib.pyplot as plt\n",
    "\n",
    "xmatch_df.hist(\"MAG_GAAP_i\", bins=100)"
   ]
  },
  {
   "cell_type": "code",
   "execution_count": null,
   "id": "29a628da",
   "metadata": {},
   "outputs": [],
   "source": [
    "xmatch_df.loc[0, \"MAG_GAAP_i\"].dtype"
   ]
  },
  {
   "cell_type": "code",
   "execution_count": null,
   "id": "78d81bb1",
   "metadata": {},
   "outputs": [],
   "source": []
  }
 ],
 "metadata": {
  "kernelspec": {
   "display_name": "Python 3 (ipykernel)",
   "language": "python",
   "name": "python3"
  },
  "language_info": {
   "codemirror_mode": {
    "name": "ipython",
    "version": 3
   },
   "file_extension": ".py",
   "mimetype": "text/x-python",
   "name": "python",
   "nbconvert_exporter": "python",
   "pygments_lexer": "ipython3",
   "version": "3.8.10"
  }
 },
 "nbformat": 4,
 "nbformat_minor": 5
}

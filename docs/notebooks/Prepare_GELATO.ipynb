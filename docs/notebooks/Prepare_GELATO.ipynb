{
 "cells": [
  {
   "cell_type": "markdown",
   "id": "bf49f7d3-494b-4fd0-9b4a-ab7339ab013a",
   "metadata": {},
   "source": [
    "# Prepare data for GELATO run\n",
    "Load crossmatch results and monitor them. Prepare data for emission/absorption lines identification with GELATO."
   ]
  },
  {
   "cell_type": "markdown",
   "id": "13eef0e6-24e4-4365-adc1-e63e48585591",
   "metadata": {},
   "source": [
    "## 1. Ensure path is known to the system"
   ]
  },
  {
   "cell_type": "code",
   "execution_count": null,
   "id": "4e516a6c-e8cd-4fb2-a29f-dc7d2475f777",
   "metadata": {},
   "outputs": [],
   "source": [
    "import os\n",
    "\n",
    "os.environ[\"FORS2DATALOC\"]"
   ]
  },
  {
   "cell_type": "code",
   "execution_count": null,
   "id": "4442a57c-5b86-433e-9e46-ef1cd4eee821",
   "metadata": {},
   "outputs": [],
   "source": [
    "if os.environ[\"FORS2DATALOC\"] == \"\":\n",
    "    os.environ[\"FORS2DATALOC\"] = os.path.abspath(os.path.join(\"..\", \"..\", \"src\", \"data\"))\n",
    "os.environ[\"FORS2DATALOC\"]"
   ]
  },
  {
   "cell_type": "markdown",
   "id": "0b0d3a38-18bf-4816-9e60-35a2b9da4f7d",
   "metadata": {},
   "source": [
    "It is strongly recommended to add the following to your `.bashrc` or `.bash_aliases` file:\n",
    "```bash\n",
    "export FORS2DATALOC=\"[path to this repository]/src/data\"\n",
    "```\n",
    "Then log out and log back in, or `source` the file, and the environment variable will be set and should be set automatically each time you start a session."
   ]
  },
  {
   "cell_type": "markdown",
   "id": "af6f3447-b8f8-4c9d-82f1-1990570819f9",
   "metadata": {},
   "source": [
    "## 2. Load and glance at crossmatch data"
   ]
  },
  {
   "cell_type": "code",
   "execution_count": null,
   "id": "0f930d39-7b38-48b2-9212-af8f756d5a82",
   "metadata": {},
   "outputs": [],
   "source": [
    "from process_fors2.analysis import loadDataInH5"
   ]
  },
  {
   "cell_type": "code",
   "execution_count": null,
   "id": "f93350a5-777a-4133-8282-deb387e7b6af",
   "metadata": {},
   "outputs": [],
   "source": [
    "filename = \"resulting_merge_from_walkthrough.h5\"\n",
    "xmatchfile = os.path.abspath(os.path.join(\".\", filename))\n",
    "if os.path.isfile(xmatchfile):\n",
    "    print(f\"{xmatchfile} is a valid HDF5 file.\")"
   ]
  },
  {
   "cell_type": "markdown",
   "id": "6246dc8f-a5f3-4204-acac-5cbb293ce458",
   "metadata": {},
   "source": [
    "The function `loadDataInH5` extracts a dictionary of data from the HDF5 file, for a single galaxy. Let's pick one and go through the process."
   ]
  },
  {
   "cell_type": "code",
   "execution_count": null,
   "id": "03b5931e-cf7c-4cdf-b386-294ecff6d8a0",
   "metadata": {},
   "outputs": [],
   "source": [
    "import h5py\n",
    "import re\n",
    "import numpy as np\n",
    "import matplotlib.pyplot as plt"
   ]
  },
  {
   "cell_type": "code",
   "execution_count": null,
   "id": "6257609b-a812-4202-b562-9085388bcc90",
   "metadata": {},
   "outputs": [],
   "source": [
    "with h5py.File(xmatchfile, \"r\") as xfile:\n",
    "    tags = np.array(list(xfile.keys()))\n",
    "    print(tags[:10])\n",
    "    tag0 = tags[0]\n",
    "    group0 = xfile.get(tag0)\n",
    "    print(group0.attrs.get(\"name\"), group0.attrs.get(\"num\"), tag0)\n",
    "    nums = []\n",
    "    for tag in tags:\n",
    "        group = xfile.get(tag)\n",
    "        num = group.attrs.get(\"num\")\n",
    "        nums.append(num)\n",
    "nums = np.array(nums)\n",
    "nums"
   ]
  },
  {
   "cell_type": "code",
   "execution_count": null,
   "id": "8435348e-af95-43e1-9702-b2827abea42c",
   "metadata": {},
   "outputs": [],
   "source": [
    "specid = np.random.choice(nums)\n",
    "specid"
   ]
  },
  {
   "cell_type": "code",
   "execution_count": null,
   "id": "90ac8676-3b85-483c-a07f-0248396a3ee1",
   "metadata": {},
   "outputs": [],
   "source": [
    "datadict = loadDataInH5(specid, h5file=xmatchfile)"
   ]
  },
  {
   "cell_type": "code",
   "execution_count": null,
   "id": "c2726ee3-2749-4888-9383-f01ad0d8f0d9",
   "metadata": {},
   "outputs": [],
   "source": [
    "datadict"
   ]
  },
  {
   "cell_type": "code",
   "execution_count": null,
   "id": "5b97604a-9474-4037-b7f2-53c1f75ae9c3",
   "metadata": {},
   "outputs": [],
   "source": [
    "from sedpy import observate"
   ]
  },
  {
   "cell_type": "code",
   "execution_count": null,
   "id": "fcc977df-cb47-46d4-bb8b-dad0cbc04915",
   "metadata": {},
   "outputs": [],
   "source": [
    "filts = observate.load_filters([\"sdss_u0\", \"sdss_g0\", \"sdss_r0\", \"sdss_i0\"])\n",
    "mags = [datadict[\"MAG_GAAP_u\"], datadict[\"MAG_GAAP_g\"], datadict[\"MAG_GAAP_r\"], datadict[\"MAG_GAAP_i\"]]\n",
    "magserr = [datadict[\"MAGERR_GAAP_u\"], datadict[\"MAGERR_GAAP_g\"], datadict[\"MAGERR_GAAP_r\"], datadict[\"MAGERR_GAAP_i\"]]"
   ]
  },
  {
   "cell_type": "code",
   "execution_count": null,
   "id": "3f6cd618-1fb6-4302-b04c-6774339a1a40",
   "metadata": {},
   "outputs": [],
   "source": [
    "sdss_u, sdss_g, sdss_r, sdss_i = filts"
   ]
  },
  {
   "cell_type": "code",
   "execution_count": null,
   "id": "390cdc61-d74a-4b80-88c5-642dcebed6ef",
   "metadata": {},
   "outputs": [],
   "source": [
    "f, a = plt.subplots(1, 1)\n",
    "aa = a.twinx()\n",
    "for filt, c in zip(filts, [\"b\", \"g\", \"y\", \"r\"]):\n",
    "    aa.fill_between(filt.wavelength, filt.transmission, color=c, alpha=0.4, label=filt.name)\n",
    "    aa.axvline(filt.blue_edge, lw=0.5, c=c, ls=\":\")\n",
    "    aa.axvline(filt.red_edge, lw=0.5, c=c, ls=\":\")\n",
    "    aa.axvline(filt.wave_effective, lw=0.5, c=c, ls=\"-\")\n",
    "sel = np.where(datadict[\"mask_f2\"] > 0, False, True)\n",
    "a.plot(datadict[\"wl_f2\"][sel], datadict[\"fl_f2\"][sel], lw=0.5, c=\"k\", label=datadict[\"name\"])\n",
    "a.set_xlabel(\"Wavelength $[ \\AA ]$\")\n",
    "a.set_ylabel(\"Spectral flux [arbitrary units]\")\n",
    "aa.set_ylabel(\"Filter transmission\")\n",
    "f.legend(loc=\"lower left\", bbox_to_anchor=(1.01, 0.0))"
   ]
  },
  {
   "cell_type": "markdown",
   "id": "b4728430-3e34-410e-9a8e-ad04030549d2",
   "metadata": {},
   "source": [
    "## 3. Scale spectral flux on photometry\n",
    "We start by identifying bands in which we can compute a flux from the spectrum, then a factor to apply on this spectrum tu match photometry from KiDS in these bands."
   ]
  },
  {
   "cell_type": "code",
   "execution_count": null,
   "id": "d1d1ea7d-1cf6-48e7-b318-f0e700fb0a12",
   "metadata": {},
   "outputs": [],
   "source": [
    "good_filts = []\n",
    "good_mags = []\n",
    "good_magserr = []\n",
    "for f, m, err in zip(filts, mags, magserr):\n",
    "    if (f.blue_edge > min(datadict[\"wl_f2\"][sel])) and (f.red_edge < max(datadict[\"wl_f2\"][sel])) and np.isfinite(m) and np.isfinite(err):\n",
    "        good_filts.append(f)\n",
    "        good_mags.append(m)\n",
    "        good_magserr.append(err)"
   ]
  },
  {
   "cell_type": "code",
   "execution_count": null,
   "id": "4c28bfc4-863f-406e-a90e-ddbfcfdb990f",
   "metadata": {},
   "outputs": [],
   "source": [
    "print(good_filts, good_mags, good_magserr)"
   ]
  },
  {
   "cell_type": "code",
   "execution_count": null,
   "id": "12830055-adef-49ee-a2b0-c4d94fb97d42",
   "metadata": {},
   "outputs": [],
   "source": [
    "from process_fors2.analysis import scalingToBand"
   ]
  },
  {
   "cell_type": "code",
   "execution_count": null,
   "id": "584bd354-3f15-4b48-828f-0d36f2d67ed5",
   "metadata": {},
   "outputs": [],
   "source": [
    "flux2phot = scalingToBand(datadict[\"wl_f2\"], datadict[\"fl_f2\"], good_mags, good_magserr, mask=datadict[\"mask_f2\"], band=[f.name for f in good_filts])"
   ]
  },
  {
   "cell_type": "code",
   "execution_count": null,
   "id": "752cee77-41e4-492c-bf0a-daf5a02770cf",
   "metadata": {},
   "outputs": [],
   "source": [
    "f, a = plt.subplots(1, 1)\n",
    "aa = a.twinx()\n",
    "for filt in good_filts:\n",
    "    aa.fill_between(filt.wavelength, filt.transmission, alpha=0.4, label=filt.name)\n",
    "sel = np.where(datadict[\"mask_f2\"] > 0, False, True)\n",
    "a.plot(datadict[\"wl_f2\"][sel], flux2phot * datadict[\"fl_f2\"][sel], lw=0.5, c=\"k\", label=datadict[\"name\"])\n",
    "a.set_xlabel(\"Wavelength $[ \\AA ]$\")\n",
    "a.set_ylabel(\"Spectral flux $[\\mathrm{erg} . \\mathrm{s}^{-1} . \\mathrm{cm}^{-2} . \\mathrm{\\AA}^{-1}]$\")\n",
    "aa.set_ylabel(\"Filter transmission\")\n",
    "f.legend(loc=\"lower left\", bbox_to_anchor=(1.01, 0.0))"
   ]
  },
  {
   "cell_type": "code",
   "execution_count": null,
   "id": "4cb8acf9-634b-4eca-9505-2bb7551bbdd4",
   "metadata": {},
   "outputs": [],
   "source": [
    "f, a = plt.subplots(1, 1)\n",
    "aa = a.twinx()\n",
    "sel = np.where(datadict[\"mask_f2\"] > 0, False, True)\n",
    "for idx, (filt, m, err) in enumerate(zip(good_filts, good_mags, good_magserr)):\n",
    "    aa.fill_between(filt.wavelength, filt.transmission, alpha=0.4, label=filt.name)\n",
    "    mab = filt.ab_mag(datadict[\"wl_f2\"][sel], flux2phot * datadict[\"fl_f2\"][sel])\n",
    "    lab = \"Magnitude from scaling\"\n",
    "    if idx > 0:\n",
    "        lab = \"\"\n",
    "    a.scatter(filt.wave_effective, mab, s=49, marker=\"x\", label=lab)\n",
    "    lab = \"Magnitude from observation\"\n",
    "    if idx > 0:\n",
    "        lab = \"\"\n",
    "    a.errorbar(filt.wave_effective, m, err, fmt=\"s\", label=lab)\n",
    "a.set_xlabel(\"Wavelength $[ \\AA ]$\")\n",
    "a.set_ylabel(\"Magnitude $[\\mathrm{AB}]$\")\n",
    "aa.set_ylabel(\"Filter transmission\")\n",
    "f.legend(loc=\"lower left\", bbox_to_anchor=(1.01, 0.0))"
   ]
  },
  {
   "cell_type": "markdown",
   "id": "cdd96b5d-2286-4385-ba5f-7b09bc4b1560",
   "metadata": {},
   "source": [
    "We can see that the spectrum has been rescaled so that magnitudes in selected bands match as closely as possible."
   ]
  },
  {
   "cell_type": "markdown",
   "id": "1fa60edc-6a54-46ef-b84e-b247df314e4b",
   "metadata": {},
   "source": [
    "## 4. Estimate signal and noise in FORS2 spectra\n",
    "In order for GELATO to run, we must provide it with an estimation of errors in the spectra. Therefore, we perform a rough estimation of signal and noise in the data, base on gaussian filtering."
   ]
  },
  {
   "cell_type": "code",
   "execution_count": null,
   "id": "2fe9c621-5434-42e6-808d-62bda9ac5f1a",
   "metadata": {},
   "outputs": [],
   "source": [
    "from process_fors2.analysis import estimateErrors"
   ]
  },
  {
   "cell_type": "code",
   "execution_count": null,
   "id": "13341e5d-3e25-42ea-b4bb-4ba4e3bb4ee0",
   "metadata": {},
   "outputs": [],
   "source": [
    "scaled_flux = flux2phot * datadict[\"fl_f2\"]\n",
    "fl_signal, fl_noise = estimateErrors(datadict[\"wl_f2\"], scaled_flux, mask=datadict[\"mask_f2\"], nsigma=3)"
   ]
  },
  {
   "cell_type": "markdown",
   "id": "1a6531e2-4e26-4b24-aca8-be127abbfa7e",
   "metadata": {},
   "source": [
    "## 5. Write results for GELATO\n",
    "GELATO reads `FITS` files containing the data."
   ]
  },
  {
   "cell_type": "code",
   "execution_count": null,
   "id": "383c0cd8-a2d0-453b-86da-d087379e6ed5",
   "metadata": {},
   "outputs": [],
   "source": [
    "from astropy.io import fits\n",
    "from astropy.table import Table"
   ]
  },
  {
   "cell_type": "markdown",
   "id": "f03a5c82-a73a-422c-a8c4-e4c67f575eaa",
   "metadata": {},
   "source": [
    "### Format data\n",
    "From the GELATO [respository](https://github.com/TheSkyentist/GELATO) :\n",
    "\n",
    "In order to run GELATO you need:\n",
    "[...]\n",
    "- The spectrum or spectra. The log10 of the wavelength in Angstroms of the spectrum must be provided along with the spectral flux density per unit wavelength (Flam). The inverse variance of the fluxes, in corresponding units, must also be provided.\n",
    "- The redshift of each spectrum. The redshift of the object must be passed to construct the spectrum object. While the redshift is a fitted parameter, the provided value must be correct to at least 1 part in 200, preferable 1 part in 1000. A basic estimate from the apparent position of any identified emission line should suffice."
   ]
  },
  {
   "cell_type": "code",
   "execution_count": null,
   "id": "5a3b8ad3-4fd2-483c-8683-f7a3f57f26b1",
   "metadata": {},
   "outputs": [],
   "source": [
    "nomask = np.where(datadict[\"mask_f2\"] > 0, False, True)\n",
    "sel = np.logical_and(nomask, datadict[\"fl_f2\"] > 0)\n",
    "sel = np.logical_and(sel, np.isfinite(fl_noise))\n",
    "sel = np.logical_and(sel, fl_noise > 0)\n",
    "wl_gel = np.log10(datadict[\"wl_f2\"][sel])\n",
    "flam_gel = flux2phot * datadict[\"fl_f2\"][sel]\n",
    "inv_var = np.power(fl_noise[sel], -2)\n",
    "\n",
    "redz = datadict[\"redshift\"]\n",
    "\n",
    "plt.plot(wl_gel, flam_gel)\n",
    "print(f\"redshift: {redz:.3f}\")"
   ]
  },
  {
   "cell_type": "markdown",
   "id": "cc98a591-e847-43a3-929f-4ca6de48c326",
   "metadata": {},
   "source": [
    "### Write data\n",
    "Save data in appropriate files for later use in GELATO.\n",
    "\n",
    "Gathering Ingredients: First, the spectrum is loaded. The code assumes the spectrum file is a FITS table with the following columns and column names:\n",
    "\n",
    "1. The log10 of the wavelengths in Angstroms, column name: \"loglam\"\n",
    "2. The spectral flux density in flam units, column name: \"flux\"\n",
    "3. The inverse variances of the data points, column name: \"ivar\""
   ]
  },
  {
   "cell_type": "code",
   "execution_count": null,
   "id": "d8774aea-49dc-4692-8b11-11578c6c8b1a",
   "metadata": {},
   "outputs": [],
   "source": [
    "t = Table([wl_gel, flam_gel, inv_var], names=[\"loglam\", \"flux\", \"ivar\"])"
   ]
  },
  {
   "cell_type": "code",
   "execution_count": null,
   "id": "1f2f9f04-deee-4c5a-b896-c84700e51d27",
   "metadata": {},
   "outputs": [],
   "source": [
    "t"
   ]
  },
  {
   "cell_type": "code",
   "execution_count": null,
   "id": "271451b8-da1d-46af-a451-bf62777b66f3",
   "metadata": {},
   "outputs": [],
   "source": [
    "fpath = os.path.abspath(f\"{datadict['name']}_z{redz:.3f}_GEL.fits\")\n",
    "if False:\n",
    "    t.write(fpath, format=\"fits\", overwrite=True)"
   ]
  },
  {
   "cell_type": "markdown",
   "id": "8f3aff10-89c5-4a5a-a7bf-017305b0bf87",
   "metadata": {},
   "source": [
    "The data has been written in a `FITS` file built to work with GELATO."
   ]
  },
  {
   "cell_type": "code",
   "execution_count": null,
   "id": "d6250bf0-90db-4e1b-b135-c72d8d168e17",
   "metadata": {},
   "outputs": [],
   "source": [
    "objlist = Table([[fpath], [redz]], names=[\"Path\", \"z\"])"
   ]
  },
  {
   "cell_type": "code",
   "execution_count": null,
   "id": "c322e097-cbfb-4bae-a851-79b70f46a700",
   "metadata": {},
   "outputs": [],
   "source": [
    "objlist"
   ]
  },
  {
   "cell_type": "code",
   "execution_count": null,
   "id": "21560992-e01b-4776-a5e1-cdeca9752bf3",
   "metadata": {},
   "outputs": [],
   "source": [
    "if False:\n",
    "    objlist.write(\"specs_for_GELATO.fits\", format=\"fits\", overwrite=True)"
   ]
  },
  {
   "cell_type": "markdown",
   "id": "32cf4631-fdcd-49c0-97e3-f819db93953d",
   "metadata": {},
   "source": [
    "The list of data files has been written in a `FITS` file built to work with GELATO."
   ]
  },
  {
   "cell_type": "markdown",
   "id": "08032ded-ffde-4f4d-98bc-054020d40735",
   "metadata": {},
   "source": [
    "This is the end of this notebook. All steps will be available in a dedicated function so that this process can be looped and all FORS2 spectra processed in an identical way for future, well-controlled GEALTO runs."
   ]
  },
  {
   "cell_type": "markdown",
   "id": "2e86d213-b407-4833-ace8-6bb4e095a338",
   "metadata": {},
   "source": [
    "## 6. Loop"
   ]
  },
  {
   "cell_type": "code",
   "execution_count": null,
   "id": "4ff88abe-43ff-445f-a18b-c2dc2939df0a",
   "metadata": {},
   "outputs": [],
   "source": [
    "from process_fors2.analysis import crossmatchToGelato"
   ]
  },
  {
   "cell_type": "code",
   "execution_count": null,
   "id": "5fa6b87f-d876-487a-8526-edaefcb17396",
   "metadata": {},
   "outputs": [],
   "source": [
    "outdir = \"./test_gelato\""
   ]
  },
  {
   "cell_type": "code",
   "execution_count": null,
   "id": "3bb96c25-7654-449e-b881-610d4d950d56",
   "metadata": {},
   "outputs": [],
   "source": [
    "tab, path = crossmatchToGelato(filename, outdir)"
   ]
  },
  {
   "cell_type": "code",
   "execution_count": null,
   "id": "6436d1ac-ea32-4a01-9514-3b1bb42af4d7",
   "metadata": {},
   "outputs": [],
   "source": [
    "tab"
   ]
  },
  {
   "cell_type": "markdown",
   "id": "aca2fe2f-dff5-48db-8d3e-ce7fa21005c4",
   "metadata": {},
   "source": [
    "And *voilà !*, all data files for GELATO have been generated correctly... hopefully."
   ]
  },
  {
   "cell_type": "code",
   "execution_count": null,
   "id": "c487d8d7-6e93-4a34-bba2-6f43d9387ef1",
   "metadata": {},
   "outputs": [],
   "source": []
  }
 ],
 "metadata": {
  "kernelspec": {
   "display_name": "Python 3 (ipykernel)",
   "language": "python",
   "name": "python3"
  },
  "language_info": {
   "codemirror_mode": {
    "name": "ipython",
    "version": 3
   },
   "file_extension": ".py",
   "mimetype": "text/x-python",
   "name": "python",
   "nbconvert_exporter": "python",
   "pygments_lexer": "ipython3",
   "version": "3.10.13"
  }
 },
 "nbformat": 4,
 "nbformat_minor": 5
}

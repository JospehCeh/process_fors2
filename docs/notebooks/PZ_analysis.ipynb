{
 "cells": [
  {
   "cell_type": "markdown",
   "id": "a331a6b4",
   "metadata": {},
   "source": [
    "# Notebook to run photo-z estimation with `process_fors2.photoZ`\n",
    "Created by J. Chevalier on October 28, 2024"
   ]
  },
  {
   "cell_type": "markdown",
   "id": "1d54cf95",
   "metadata": {},
   "source": [
    "## Requirements\n",
    "This notebook requires the `process_fors2` and `dsps` packages. Installation instructions can be found following [this link](https://github.com/JospehCeh/process_fors2.git).\n",
    "\n",
    "Then, a `jupyter` kernel must be created and associated to your installation environment and used to run this notebook."
   ]
  },
  {
   "cell_type": "markdown",
   "id": "d0456565",
   "metadata": {},
   "source": [
    "## Imports"
   ]
  },
  {
   "cell_type": "code",
   "execution_count": null,
   "id": "423648aa",
   "metadata": {},
   "outputs": [],
   "source": [
    "import numpy as np  # simply more convenient for a couple of things\n",
    "from jax import numpy as jnp\n",
    "\n",
    "from process_fors2.fetchData import json_to_inputs, readPhotoZHDF5\n",
    "from process_fors2.photoZ import run_from_inputs"
   ]
  },
  {
   "cell_type": "markdown",
   "id": "c4647f89",
   "metadata": {},
   "source": [
    "## Default run"
   ]
  },
  {
   "cell_type": "code",
   "execution_count": null,
   "id": "4b572718",
   "metadata": {},
   "outputs": [],
   "source": [
    "# Defaults settings\n",
    "conf_file = \"../../src/data/defaults.json\"\n",
    "\n",
    "input_settings = json_to_inputs(conf_file)\n",
    "print(input_settings)"
   ]
  },
  {
   "cell_type": "code",
   "execution_count": null,
   "id": "607d6aed",
   "metadata": {},
   "outputs": [],
   "source": [
    "inputs_pz = input_settings[\"photoZ\"]\n",
    "inputs_pz"
   ]
  },
  {
   "cell_type": "markdown",
   "id": "eac5caa5",
   "metadata": {},
   "source": [
    "Here we have loaded the defaults settings that come within the package for a minimal (and not optimized at all) run.\n",
    "It is structured as a dictionary so it is easy to change one of the settings before the run. For example :"
   ]
  },
  {
   "cell_type": "code",
   "execution_count": null,
   "id": "8170f510",
   "metadata": {},
   "outputs": [],
   "source": [
    "input_settings[\"photoZ\"][\"Estimator\"] = \"delight\"\n",
    "inputs_pz[\"Estimator\"]"
   ]
  },
  {
   "cell_type": "markdown",
   "id": "94f2705f",
   "metadata": {},
   "source": [
    "We may also activate the prior. Note that in this cas it may also be wise to reflect this in the `input_settings[\"photoZ\"][\"run name\"]` value, although we will not do it here in the sake of laziness (and to avoid generating too many files)."
   ]
  },
  {
   "cell_type": "code",
   "execution_count": null,
   "id": "52ada417",
   "metadata": {},
   "outputs": [],
   "source": [
    "input_settings[\"photoZ\"][\"prior\"] = True\n",
    "inputs_pz[\"prior\"]"
   ]
  },
  {
   "cell_type": "markdown",
   "id": "f268b40f",
   "metadata": {},
   "source": [
    "Note that as of now, the setting we have modified is actually not used in the code, so it won't affect our run and only serves as an example."
   ]
  },
  {
   "cell_type": "markdown",
   "id": "33abf23c",
   "metadata": {},
   "source": [
    "## Photometric redshifts\n",
    "Now we will run the code from the notebook. It may take some time, up to a couple of hours on larger datasets, and jax implementation does not make it easy to incorporate progress bars so please just be patient..."
   ]
  },
  {
   "cell_type": "code",
   "execution_count": null,
   "id": "cabacb6e",
   "metadata": {},
   "outputs": [],
   "source": [
    "pz_res_tree = run_from_inputs(input_settings)  # It is necessary here to use the overall dictionary and not the 'photoZ' subset"
   ]
  },
  {
   "cell_type": "markdown",
   "id": "2d983508",
   "metadata": {},
   "source": [
    "Now, we may want to save the results to the disk, so let us write them into an `HDF5` file with the included utilitary `photoZtoHDF5`:"
   ]
  },
  {
   "cell_type": "code",
   "execution_count": null,
   "id": "ec539b92",
   "metadata": {},
   "outputs": [],
   "source": [
    "if input_settings[\"photoZ\"][\"save results\"]:\n",
    "    from process_fors2.fetchData import photoZtoHDF5\n",
    "\n",
    "    # df_gal.to_pickle(f\"{inputs['run name']}_results_summary.pkl\")\n",
    "    # with open(f\"{inputs['photoZ']['run name']}_posteriors_dict.pkl\", \"wb\") as handle:\n",
    "    #    pickle.dump(tree_of_results_dict, handle, protocol=pickle.HIGHEST_PROTOCOL)\n",
    "    resfile = photoZtoHDF5(f\"{input_settings['photoZ']['run name']}_posteriors_dict.h5\", pz_res_tree)\n",
    "else:\n",
    "    resfile = \"Run terminated correctly but results were not saved, please check your input configuration.\"\n",
    "print(resfile)"
   ]
  },
  {
   "cell_type": "markdown",
   "id": "9ce7202c",
   "metadata": {},
   "source": [
    "Alternatively, the steps above can be performed from a terminal by running the command :\n",
    "`python -m process_fors2.photoZ $HOME/process_fors2/src/data/defaults.json` (or using any other appropriate `JSON` configuration file)."
   ]
  },
  {
   "cell_type": "markdown",
   "id": "e12c964c",
   "metadata": {},
   "source": [
    "## Let's look at the results\n",
    "Here we can either read the file we have created using the provided function `readPhotoZHDF5`, or directly use our `pz_res_tree` object.\n",
    "\n",
    "**Note :**\n",
    "_If the results were saved in the step above, it is highly recommended to reload them, otherwise the PDFs might be missing from the `pz_res_tree` object due to the presence of `dict.pop()` methods in `photoZtoHDF5`._\n"
   ]
  },
  {
   "cell_type": "code",
   "execution_count": null,
   "id": "b93f147b-519a-44ed-a918-2d894d44d5f6",
   "metadata": {},
   "outputs": [],
   "source": [
    "load_from_file = input_settings[\"photoZ\"][\"save results\"]\n",
    "if load_from_file:\n",
    "    pz_res_tree = readPhotoZHDF5(resfile)"
   ]
  },
  {
   "cell_type": "code",
   "execution_count": null,
   "id": "3f08092d-8406-4e2a-ad8d-22915c401f27",
   "metadata": {},
   "outputs": [],
   "source": [
    "z_grid = jnp.arange(inputs_pz[\"Z_GRID\"][\"z_min\"], inputs_pz[\"Z_GRID\"][\"z_max\"] + inputs_pz[\"Z_GRID\"][\"z_step\"], inputs_pz[\"Z_GRID\"][\"z_step\"])\n",
    "# or equivalently\n",
    "z_grid = pz_res_tree[\"z_grid\"]"
   ]
  },
  {
   "cell_type": "code",
   "execution_count": null,
   "id": "301deeac-4b5e-477c-a434-2e1f5ae6dc1c",
   "metadata": {},
   "outputs": [],
   "source": [
    "import matplotlib\n",
    "import matplotlib.pyplot as plt\n",
    "\n",
    "%matplotlib inline\n",
    "\n",
    "\n",
    "def _plot_pdz(pz_res_dict, obsid):\n",
    "    z = pz_res_dict[\"z_grid\"]\n",
    "    pdz = pz_res_dict[\"PDZ\"][:, obsid]\n",
    "    mean = pz_res_dict[\"z_mean\"][obsid]\n",
    "    zs = pz_res_dict[\"z_spec\"][obsid]\n",
    "    medz = pz_res_dict[\"z_med\"][obsid]\n",
    "\n",
    "    plt.semilogy(z, pdz)\n",
    "    if jnp.isfinite(zs):\n",
    "        plt.axvline(zs, c=\"k\", label=\"z_spec\")\n",
    "    plt.axvline(mean, c=\"r\", label=\"Mean\")\n",
    "    plt.axvline(medz, c=\"g\", label=\"Median\")\n",
    "    plt.legend()\n",
    "    plt.show()"
   ]
  },
  {
   "cell_type": "code",
   "execution_count": null,
   "id": "53f6dc5d-1d21-4846-ba1f-81bf8a89eb67",
   "metadata": {},
   "outputs": [],
   "source": [
    "randomid = np.random.choice(pz_res_tree[\"PDZ\"].shape[1])"
   ]
  },
  {
   "cell_type": "code",
   "execution_count": null,
   "id": "3a7769bc-1e71-4ff5-abe9-01d9d1bd413b",
   "metadata": {},
   "outputs": [],
   "source": [
    "_plot_pdz(pz_res_tree, randomid)"
   ]
  },
  {
   "cell_type": "code",
   "execution_count": null,
   "id": "8fed3978-d9ea-40e1-a9a7-8955ef1c12ef",
   "metadata": {},
   "outputs": [],
   "source": [
    "f, a = plt.subplots(1, 1, figsize=(6, 6))\n",
    "zp = pz_res_tree[\"z_ML\"]\n",
    "zs = pz_res_tree[\"z_spec\"]\n",
    "\n",
    "zp = np.array(zp)\n",
    "zs = np.array(zs)\n",
    "\n",
    "bias = np.abs(zp - zs)\n",
    "outliers = np.nonzero(bias > 0.15 * (1 + zs))\n",
    "outl_rate = 100.0 * len(zs[outliers]) / len(zs)\n",
    "\n",
    "a.scatter(zs, zp, s=4, alpha=0.2, label=f\"SPS: {outl_rate:.3f}% outliers\", color=\"green\")\n",
    "a.plot(z_grid, z_grid, c=\"k\", ls=\":\", lw=1)\n",
    "a.plot(z_grid, z_grid + 0.15 * (1 + z_grid), c=\"k\", lw=2)\n",
    "a.plot(z_grid, z_grid - 0.15 * (1 + z_grid), c=\"k\", lw=2)\n",
    "a.set_xlabel(\"z_spec\")\n",
    "a.set_ylabel(\"z_phot\")\n",
    "a.legend()\n",
    "a.grid()\n",
    "# a.set_xlim(0., 3.1)\n",
    "# a.set_ylim(0., 3.1)"
   ]
  },
  {
   "cell_type": "code",
   "execution_count": null,
   "id": "4ca69b3d-34fd-4c7c-a0bd-b7b4f71afd27",
   "metadata": {},
   "outputs": [],
   "source": [
    "print(f\"SPS templates : {outl_rate:.3f}% outliers out of {len(zp)} successful fits.\")"
   ]
  },
  {
   "cell_type": "markdown",
   "id": "d1489b28",
   "metadata": {},
   "source": [
    "## Some checks\n",
    "Let's have a look at files that were created along the way."
   ]
  },
  {
   "cell_type": "code",
   "execution_count": null,
   "id": "ab40bd68",
   "metadata": {},
   "outputs": [],
   "source": [
    "import pandas as pd\n",
    "\n",
    "from process_fors2.fetchData import readTemplatesHDF5"
   ]
  },
  {
   "cell_type": "code",
   "execution_count": null,
   "id": "2017c0b5",
   "metadata": {},
   "outputs": [],
   "source": [
    "!ls"
   ]
  },
  {
   "cell_type": "code",
   "execution_count": null,
   "id": "0483946c",
   "metadata": {},
   "outputs": [],
   "source": [
    "h5cat = \"COSMOS2020_emu_hscOnly_CC_allzinf3.h5\"\n",
    "h5inp = \"pz_inputs_COSMOS2020_emu_hscOnly_CC_allzinf3.h5\"\n",
    "h5templ = \"SEDtempl_SPS_mags+rews_1_to_10.h5\""
   ]
  },
  {
   "cell_type": "code",
   "execution_count": null,
   "id": "a7134236",
   "metadata": {},
   "outputs": [],
   "source": [
    "df_cat = pd.read_hdf(h5cat, key=\"catalog\")\n",
    "df_cat"
   ]
  },
  {
   "cell_type": "code",
   "execution_count": null,
   "id": "766c2979",
   "metadata": {},
   "outputs": [],
   "source": [
    "df_inp = pd.read_hdf(h5inp, key=\"pz_inputs\")\n",
    "df_inp"
   ]
  },
  {
   "cell_type": "code",
   "execution_count": null,
   "id": "c79ea80a",
   "metadata": {},
   "outputs": [],
   "source": [
    "dict_templ = readTemplatesHDF5(h5templ)\n",
    "dict_templ"
   ]
  }
 ],
 "metadata": {
  "kernelspec": {
   "display_name": "Python 3",
   "language": "python",
   "name": "python3"
  },
  "language_info": {
   "codemirror_mode": {
    "name": "ipython",
    "version": 3
   },
   "file_extension": ".py",
   "mimetype": "text/x-python",
   "name": "python",
   "nbconvert_exporter": "python",
   "pygments_lexer": "ipython3",
   "version": "3.10.12"
  }
 },
 "nbformat": 4,
 "nbformat_minor": 5
}

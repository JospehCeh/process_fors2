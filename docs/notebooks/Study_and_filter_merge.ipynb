{
 "cells": [
  {
   "cell_type": "markdown",
   "id": "1990cad1-cbf1-408a-b9de-3118cb49548d",
   "metadata": {},
   "source": [
    "# Notebook created to explore crossmatch results"
   ]
  },
  {
   "cell_type": "code",
   "execution_count": null,
   "id": "53288071-f765-4e89-a984-1ddae3a5c181",
   "metadata": {},
   "outputs": [],
   "source": [
    "import os\n",
    "import numpy as np\n",
    "import pandas as pd\n",
    "import seaborn as sns\n",
    "import matplotlib\n",
    "\n",
    "%matplotlib inline\n",
    "import matplotlib.pyplot as plt"
   ]
  },
  {
   "cell_type": "code",
   "execution_count": null,
   "id": "52edb4f8-f8a8-4473-b060-e2e246207c00",
   "metadata": {},
   "outputs": [],
   "source": [
    "import h5py\n",
    "from process_fors2.fetchData import readH5FileAttributes"
   ]
  },
  {
   "cell_type": "code",
   "execution_count": null,
   "id": "36fe0436-a302-4fd8-8b7d-809091087a77",
   "metadata": {},
   "outputs": [],
   "source": [
    "xmatch_fn = os.path.abspath(\"./resulting_merge_from_walkthrough.h5\")\n",
    "xmatch_df = readH5FileAttributes(xmatch_fn)\n",
    "xmatch_df"
   ]
  },
  {
   "cell_type": "code",
   "execution_count": null,
   "id": "d49694f3-1535-43e8-9ef3-eef311038f06",
   "metadata": {},
   "outputs": [],
   "source": [
    "sns.histplot(data=xmatch_df, x=\"asep_kids\")"
   ]
  },
  {
   "cell_type": "code",
   "execution_count": null,
   "id": "0be476ea-1b98-4049-8954-e8c5b0f6022e",
   "metadata": {},
   "outputs": [],
   "source": [
    "sns.histplot(data=xmatch_df, x=\"asep_galex\")"
   ]
  },
  {
   "cell_type": "code",
   "execution_count": null,
   "id": "4e211d4e-7636-4860-ab5a-60ca89af0499",
   "metadata": {},
   "outputs": [],
   "source": [
    "f, a = plt.subplots(1, 1)\n",
    "sns.histplot(data=xmatch_df, x=\"redshift\", ax=a, label=\"Spectro-z\")\n",
    "sns.histplot(data=xmatch_df, x=\"Z_B\", ax=a, label=\"KiDS Z_B\")\n",
    "sns.histplot(data=xmatch_df, x=\"Z_ML\", ax=a, label=\"KiDS Z_ML\")\n",
    "a.set_xlabel(\"Redshift\")\n",
    "a.legend()"
   ]
  },
  {
   "cell_type": "code",
   "execution_count": null,
   "id": "d0c21a7d-1930-4026-bb95-7831ce2e501d",
   "metadata": {},
   "outputs": [],
   "source": [
    "from process_fors2.fetchData import filterCrossMatch, cleanGalexData"
   ]
  },
  {
   "cell_type": "code",
   "execution_count": null,
   "id": "bba8915c-bf86-4b81-856a-04062c63160e",
   "metadata": {},
   "outputs": [],
   "source": [
    "filtered_df = filterCrossMatch(xmatch_fn, 2.0, z_bias=0.1)"
   ]
  },
  {
   "cell_type": "code",
   "execution_count": null,
   "id": "81eafed3-e109-40c6-9c5a-9c986df7ca62",
   "metadata": {},
   "outputs": [],
   "source": [
    "rep, fn = os.path.split(xmatch_fn)\n",
    "fn, ext = os.path.splitext(fn)\n",
    "new_fn = f\"{fn}_filtered{ext}\"\n",
    "filtered_fn = os.path.join(rep, new_fn)"
   ]
  },
  {
   "cell_type": "code",
   "execution_count": null,
   "id": "fe7fc701-f1b3-40f7-9c00-7233d5c63bb4",
   "metadata": {},
   "outputs": [],
   "source": [
    "clean_galex_df = cleanGalexData(filtered_fn, 3.0)"
   ]
  },
  {
   "cell_type": "code",
   "execution_count": null,
   "id": "f371c4a4-8733-41cf-98ce-b32c481e7d3f",
   "metadata": {},
   "outputs": [],
   "source": [
    "clean_galex_df"
   ]
  },
  {
   "cell_type": "code",
   "execution_count": null,
   "id": "7d38e738-1173-42c7-8c43-7f7929369fd3",
   "metadata": {},
   "outputs": [],
   "source": [
    "clean_galex_df[\"has_galex\"] = clean_galex_df[\"id_galex\"] != \"CLEANED\""
   ]
  },
  {
   "cell_type": "code",
   "execution_count": null,
   "id": "d692490b-e15a-4757-a24b-0d43991cc242",
   "metadata": {},
   "outputs": [],
   "source": [
    "sns.histplot(data=clean_galex_df, x=\"asep_kids\", hue=\"has_galex\")"
   ]
  },
  {
   "cell_type": "code",
   "execution_count": null,
   "id": "3b61ea20-b49b-4368-9356-062172bdf6fb",
   "metadata": {},
   "outputs": [],
   "source": [
    "len(clean_galex_df.index[clean_galex_df[\"has_galex\"]])"
   ]
  },
  {
   "cell_type": "code",
   "execution_count": null,
   "id": "725777a7-caca-48b4-959d-1cee58196903",
   "metadata": {},
   "outputs": [],
   "source": [
    "sns.histplot(data=clean_galex_df, x=\"asep_galex\", hue=\"has_galex\")"
   ]
  },
  {
   "cell_type": "code",
   "execution_count": null,
   "id": "605b00e9-7f23-4c0c-8779-eafd561cb78c",
   "metadata": {},
   "outputs": [],
   "source": [
    "sns.scatterplot(data=clean_galex_df, x=\"asep_kids\", y=\"asep_galex\", hue=\"has_galex\")"
   ]
  },
  {
   "cell_type": "code",
   "execution_count": null,
   "id": "819ab12d-f9a4-45b2-b7e3-0f5d356e1b91",
   "metadata": {},
   "outputs": [],
   "source": [
    "len(clean_galex_df)"
   ]
  },
  {
   "cell_type": "code",
   "execution_count": null,
   "id": "ad3d4422-04cd-4b45-a08e-1f69911efe82",
   "metadata": {},
   "outputs": [],
   "source": []
  }
 ],
 "metadata": {
  "kernelspec": {
   "display_name": "Python 3",
   "language": "python",
   "name": "python3"
  },
  "language_info": {
   "codemirror_mode": {
    "name": "ipython",
    "version": 3
   },
   "file_extension": ".py",
   "mimetype": "text/x-python",
   "name": "python",
   "nbconvert_exporter": "python",
   "pygments_lexer": "ipython3",
   "version": "3.10.12"
  }
 },
 "nbformat": 4,
 "nbformat_minor": 5
}
